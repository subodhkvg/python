{
 "cells": [
  {
   "cell_type": "markdown",
   "id": "c593b435",
   "metadata": {},
   "source": [
    "\n",
    "## Import Required Libraries\n"
   ]
  },
  {
   "cell_type": "code",
   "execution_count": 1,
   "id": "10f6282c",
   "metadata": {},
   "outputs": [],
   "source": [
    "import numpy as np\n",
    "import pandas as pd\n",
    "import re"
   ]
  },
  {
   "cell_type": "code",
   "execution_count": 5,
   "id": "c3e8018b",
   "metadata": {},
   "outputs": [
    {
     "data": {
      "text/plain": [
       "(162980, 2)"
      ]
     },
     "execution_count": 5,
     "metadata": {},
     "output_type": "execute_result"
    }
   ],
   "source": [
    "#Read the .csv file using pandas\n",
    "df = pd.read_csv(\"Twitter_Data.csv\")\n",
    "#Shape provide the no. of rows and colums present in the dataset\n",
    "df.shape"
   ]
  },
  {
   "cell_type": "code",
   "execution_count": 20,
   "id": "cf18674a",
   "metadata": {},
   "outputs": [
    {
     "data": {
      "text/html": [
       "<div>\n",
       "<style scoped>\n",
       "    .dataframe tbody tr th:only-of-type {\n",
       "        vertical-align: middle;\n",
       "    }\n",
       "\n",
       "    .dataframe tbody tr th {\n",
       "        vertical-align: top;\n",
       "    }\n",
       "\n",
       "    .dataframe thead th {\n",
       "        text-align: right;\n",
       "    }\n",
       "</style>\n",
       "<table border=\"1\" class=\"dataframe\">\n",
       "  <thead>\n",
       "    <tr style=\"text-align: right;\">\n",
       "      <th></th>\n",
       "      <th>clean_text</th>\n",
       "      <th>category</th>\n",
       "    </tr>\n",
       "  </thead>\n",
       "  <tbody>\n",
       "    <tr>\n",
       "      <th>0</th>\n",
       "      <td>when modi promised “minimum government maximum...</td>\n",
       "      <td>-1.0</td>\n",
       "    </tr>\n",
       "    <tr>\n",
       "      <th>1</th>\n",
       "      <td>talk all the nonsense and continue all the dra...</td>\n",
       "      <td>0.0</td>\n",
       "    </tr>\n",
       "    <tr>\n",
       "      <th>2</th>\n",
       "      <td>what did just say vote for modi  welcome bjp t...</td>\n",
       "      <td>1.0</td>\n",
       "    </tr>\n",
       "    <tr>\n",
       "      <th>3</th>\n",
       "      <td>asking his supporters prefix chowkidar their n...</td>\n",
       "      <td>1.0</td>\n",
       "    </tr>\n",
       "    <tr>\n",
       "      <th>4</th>\n",
       "      <td>answer who among these the most powerful world...</td>\n",
       "      <td>1.0</td>\n",
       "    </tr>\n",
       "  </tbody>\n",
       "</table>\n",
       "</div>"
      ],
      "text/plain": [
       "                                          clean_text  category\n",
       "0  when modi promised “minimum government maximum...      -1.0\n",
       "1  talk all the nonsense and continue all the dra...       0.0\n",
       "2  what did just say vote for modi  welcome bjp t...       1.0\n",
       "3  asking his supporters prefix chowkidar their n...       1.0\n",
       "4  answer who among these the most powerful world...       1.0"
      ]
     },
     "execution_count": 20,
     "metadata": {},
     "output_type": "execute_result"
    }
   ],
   "source": [
    "#To list first 5 records with header\n",
    "df.head()"
   ]
  },
  {
   "cell_type": "code",
   "execution_count": 6,
   "id": "f7119f6c",
   "metadata": {},
   "outputs": [
    {
     "name": "stdout",
     "output_type": "stream",
     "text": [
      "<class 'pandas.core.frame.DataFrame'>\n",
      "RangeIndex: 162980 entries, 0 to 162979\n",
      "Data columns (total 2 columns):\n",
      " #   Column      Non-Null Count   Dtype  \n",
      "---  ------      --------------   -----  \n",
      " 0   clean_text  162976 non-null  object \n",
      " 1   category    162973 non-null  float64\n",
      "dtypes: float64(1), object(1)\n",
      "memory usage: 2.5+ MB\n"
     ]
    }
   ],
   "source": [
    "#To check if any non-null value present in the dataset\n",
    "df.info()"
   ]
  },
  {
   "cell_type": "code",
   "execution_count": null,
   "id": "0f39608e",
   "metadata": {},
   "outputs": [],
   "source": [
    "#fetc"
   ]
  },
  {
   "cell_type": "code",
   "execution_count": 7,
   "id": "84efc80d",
   "metadata": {},
   "outputs": [
    {
     "data": {
      "text/html": [
       "<div>\n",
       "<style scoped>\n",
       "    .dataframe tbody tr th:only-of-type {\n",
       "        vertical-align: middle;\n",
       "    }\n",
       "\n",
       "    .dataframe tbody tr th {\n",
       "        vertical-align: top;\n",
       "    }\n",
       "\n",
       "    .dataframe thead th {\n",
       "        text-align: right;\n",
       "    }\n",
       "</style>\n",
       "<table border=\"1\" class=\"dataframe\">\n",
       "  <thead>\n",
       "    <tr style=\"text-align: right;\">\n",
       "      <th></th>\n",
       "      <th>clean_text</th>\n",
       "    </tr>\n",
       "  </thead>\n",
       "  <tbody>\n",
       "    <tr>\n",
       "      <th>0</th>\n",
       "      <td>when modi promised “minimum government maximum...</td>\n",
       "    </tr>\n",
       "    <tr>\n",
       "      <th>1</th>\n",
       "      <td>talk all the nonsense and continue all the dra...</td>\n",
       "    </tr>\n",
       "    <tr>\n",
       "      <th>2</th>\n",
       "      <td>what did just say vote for modi  welcome bjp t...</td>\n",
       "    </tr>\n",
       "    <tr>\n",
       "      <th>3</th>\n",
       "      <td>asking his supporters prefix chowkidar their n...</td>\n",
       "    </tr>\n",
       "    <tr>\n",
       "      <th>4</th>\n",
       "      <td>answer who among these the most powerful world...</td>\n",
       "    </tr>\n",
       "    <tr>\n",
       "      <th>...</th>\n",
       "      <td>...</td>\n",
       "    </tr>\n",
       "    <tr>\n",
       "      <th>162975</th>\n",
       "      <td>why these 456 crores paid neerav modi not reco...</td>\n",
       "    </tr>\n",
       "    <tr>\n",
       "      <th>162976</th>\n",
       "      <td>dear rss terrorist payal gawar what about modi...</td>\n",
       "    </tr>\n",
       "    <tr>\n",
       "      <th>162977</th>\n",
       "      <td>did you cover her interaction forum where she ...</td>\n",
       "    </tr>\n",
       "    <tr>\n",
       "      <th>162978</th>\n",
       "      <td>there big project came into india modi dream p...</td>\n",
       "    </tr>\n",
       "    <tr>\n",
       "      <th>162979</th>\n",
       "      <td>have you ever listen about like gurukul where ...</td>\n",
       "    </tr>\n",
       "  </tbody>\n",
       "</table>\n",
       "<p>162980 rows × 1 columns</p>\n",
       "</div>"
      ],
      "text/plain": [
       "                                               clean_text\n",
       "0       when modi promised “minimum government maximum...\n",
       "1       talk all the nonsense and continue all the dra...\n",
       "2       what did just say vote for modi  welcome bjp t...\n",
       "3       asking his supporters prefix chowkidar their n...\n",
       "4       answer who among these the most powerful world...\n",
       "...                                                   ...\n",
       "162975  why these 456 crores paid neerav modi not reco...\n",
       "162976  dear rss terrorist payal gawar what about modi...\n",
       "162977  did you cover her interaction forum where she ...\n",
       "162978  there big project came into india modi dream p...\n",
       "162979  have you ever listen about like gurukul where ...\n",
       "\n",
       "[162980 rows x 1 columns]"
      ]
     },
     "execution_count": 7,
     "metadata": {},
     "output_type": "execute_result"
    }
   ],
   "source": [
    "df.iloc[:,0:1]"
   ]
  },
  {
   "cell_type": "code",
   "execution_count": 8,
   "id": "92ebdd5d",
   "metadata": {},
   "outputs": [
    {
     "data": {
      "text/plain": [
       "clean_text    what did just say vote for modi  welcome bjp t...\n",
       "category                                                    1.0\n",
       "Name: 2, dtype: object"
      ]
     },
     "execution_count": 8,
     "metadata": {},
     "output_type": "execute_result"
    }
   ],
   "source": [
    "df.iloc[2]"
   ]
  },
  {
   "cell_type": "code",
   "execution_count": null,
   "id": "66a522d2",
   "metadata": {},
   "outputs": [],
   "source": [
    "df.iloc[]"
   ]
  },
  {
   "cell_type": "code",
   "execution_count": 65,
   "id": "50d63353",
   "metadata": {},
   "outputs": [],
   "source": [
    "# Clean HTML tags present in dataset\n",
    "def strip_tags(text):     \n",
    "    #import re\n",
    "    #pattern = re.compile('<.*?>')\n",
    "    #return re.sub(pattern, '',str)\n",
    "    \n",
    "    pattern = re.compile('<.*?>')\n",
    "    #ini_string ='<td>subodh<tr> kedar</td>dfsdgfshd <a href=\"a.com\">dfdsf</a>à¥‹à¥€ à¥€à¥‡à¤¾ à¥‹ à¤…à¤ªà¤¨à¤¾ à¥‡ à¤¼à¥‡à¤¾ à¥à¥ à¥‡ à¥‡à¤¾ à¥¤ kindly VOote mOgvhGGdi and nda you really love the mother countryraga and family are certified lootersLol  did ever have the defence portfolio like modi â€â™‚ï¸ rjd leader Tejashwi<br> <html>ahhd<html> yadav public â€˜thanedarâ€™ they will teach â€˜chowkidarâ€™ lesson this election public modi modi has cheated the countrymen country saw maximum unemployment under his regime communal forces have become strongerâ€™\t0';\n",
    "    #ini_string ='gvfhdsj hjbefkjew CFGDF%^R$&gmjh <td>subodh<tr> kedar</td>dfsdgfshd <a href=\"a.com\">dfdsf</a>';\n",
    "    #return ini_string\n",
    "    #str = ini_string\n",
    "    result = re.sub(pattern,'', str(text))\n",
    "    #result = re.sub('([^\\x61-\\x7A | ^\\x41-\\x5A])+', '', result)\n",
    "    #result = re.sub(r'#','',str(text))\n",
    "    return result\n",
    "    #print (\"final string:=>\", result)"
   ]
  },
  {
   "cell_type": "code",
   "execution_count": 39,
   "id": "51bb97f1",
   "metadata": {},
   "outputs": [],
   "source": [
    "#1.Clean the html\n",
    "def to_lower(str):\n",
    "    return str.lower()"
   ]
  },
  {
   "cell_type": "code",
   "execution_count": 66,
   "id": "3a6ed05c",
   "metadata": {},
   "outputs": [],
   "source": [
    "df[\"clean_text\"] = df[\"clean_text\"].apply(strip_tags)"
   ]
  },
  {
   "cell_type": "code",
   "execution_count": 67,
   "id": "171ad4e1",
   "metadata": {},
   "outputs": [
    {
     "data": {
      "text/plain": [
       "0         when modi promised “minimum government maximum...\n",
       "1         talk all the nonsense and continue all the dra...\n",
       "2         what did just say vote for modi  welcome bjp t...\n",
       "3         asking his supporters prefix chowkidar their n...\n",
       "4         answer who among these the most powerful world...\n",
       "                                ...                        \n",
       "162975    why these 456 crores paid neerav modi not reco...\n",
       "162976    dear rss terrorist payal gawar what about modi...\n",
       "162977    did you cover her interaction forum where she ...\n",
       "162978    there big project came into india modi dream p...\n",
       "162979    have you ever listen about like gurukul where ...\n",
       "Name: clean_text, Length: 162980, dtype: object"
      ]
     },
     "execution_count": 67,
     "metadata": {},
     "output_type": "execute_result"
    }
   ],
   "source": [
    "df[\"clean_text\"]"
   ]
  },
  {
   "cell_type": "code",
   "execution_count": 37,
   "id": "de98daaf",
   "metadata": {},
   "outputs": [],
   "source": [
    "a = df.iloc[2].apply(strip_tags)"
   ]
  },
  {
   "cell_type": "code",
   "execution_count": null,
   "id": "3e8c9e46",
   "metadata": {},
   "outputs": [],
   "source": []
  },
  {
   "cell_type": "code",
   "execution_count": 38,
   "id": "419cde3c",
   "metadata": {},
   "outputs": [
    {
     "data": {
      "text/plain": [
       "clean_text    gvfhdsj hjbefkjew CFGDF%^R$&gmjh subodh kedard...\n",
       "category      gvfhdsj hjbefkjew CFGDF%^R$&gmjh subodh kedard...\n",
       "Name: 2, dtype: object"
      ]
     },
     "execution_count": 38,
     "metadata": {},
     "output_type": "execute_result"
    }
   ],
   "source": [
    "a"
   ]
  },
  {
   "cell_type": "code",
   "execution_count": 58,
   "id": "a430ae07",
   "metadata": {},
   "outputs": [
    {
     "data": {
      "text/plain": [
       "1    talk all the nonsense and continue all the dra...\n",
       "Name: clean_text, dtype: object"
      ]
     },
     "execution_count": 58,
     "metadata": {},
     "output_type": "execute_result"
    }
   ],
   "source": [
    "df['clean_text'][1:2]"
   ]
  },
  {
   "cell_type": "code",
   "execution_count": 56,
   "id": "4742c3ef",
   "metadata": {},
   "outputs": [
    {
     "data": {
      "text/plain": [
       "0    when modi promised “minimum government maximum...\n",
       "Name: clean_text, dtype: object"
      ]
     },
     "execution_count": 56,
     "metadata": {},
     "output_type": "execute_result"
    }
   ],
   "source": [
    "a"
   ]
  },
  {
   "cell_type": "code",
   "execution_count": 24,
   "id": "eb778e46",
   "metadata": {},
   "outputs": [
    {
     "data": {
      "text/plain": [
       "0         when modi promised “minimum government maximum...\n",
       "1         talk all the nonsense and continue all the dra...\n",
       "2         what did just say vote for modi  welcome bjp t...\n",
       "3         asking his supporters prefix chowkidar their n...\n",
       "4         answer who among these the most powerful world...\n",
       "                                ...                        \n",
       "162975    why these 456 crores paid neerav modi not reco...\n",
       "162976    dear rss terrorist payal gawar what about modi...\n",
       "162977    did you cover her interaction forum where she ...\n",
       "162978    there big project came into india modi dream p...\n",
       "162979    have you ever listen about like gurukul where ...\n",
       "Name: clean_text, Length: 162980, dtype: object"
      ]
     },
     "execution_count": 24,
     "metadata": {},
     "output_type": "execute_result"
    }
   ],
   "source": [
    "df['clean_text']"
   ]
  },
  {
   "cell_type": "code",
   "execution_count": 25,
   "id": "2ca6fc37",
   "metadata": {},
   "outputs": [
    {
     "data": {
      "text/html": [
       "<div>\n",
       "<style scoped>\n",
       "    .dataframe tbody tr th:only-of-type {\n",
       "        vertical-align: middle;\n",
       "    }\n",
       "\n",
       "    .dataframe tbody tr th {\n",
       "        vertical-align: top;\n",
       "    }\n",
       "\n",
       "    .dataframe thead th {\n",
       "        text-align: right;\n",
       "    }\n",
       "</style>\n",
       "<table border=\"1\" class=\"dataframe\">\n",
       "  <thead>\n",
       "    <tr style=\"text-align: right;\">\n",
       "      <th></th>\n",
       "      <th>clean_text</th>\n",
       "      <th>category</th>\n",
       "    </tr>\n",
       "  </thead>\n",
       "  <tbody>\n",
       "    <tr>\n",
       "      <th>0</th>\n",
       "      <td>when modi promised “minimum government maximum...</td>\n",
       "      <td>-1.0</td>\n",
       "    </tr>\n",
       "    <tr>\n",
       "      <th>1</th>\n",
       "      <td>talk all the nonsense and continue all the dra...</td>\n",
       "      <td>0.0</td>\n",
       "    </tr>\n",
       "    <tr>\n",
       "      <th>2</th>\n",
       "      <td>what did just say vote for modi  welcome bjp t...</td>\n",
       "      <td>1.0</td>\n",
       "    </tr>\n",
       "    <tr>\n",
       "      <th>3</th>\n",
       "      <td>asking his supporters prefix chowkidar their n...</td>\n",
       "      <td>1.0</td>\n",
       "    </tr>\n",
       "    <tr>\n",
       "      <th>4</th>\n",
       "      <td>answer who among these the most powerful world...</td>\n",
       "      <td>1.0</td>\n",
       "    </tr>\n",
       "  </tbody>\n",
       "</table>\n",
       "</div>"
      ],
      "text/plain": [
       "                                          clean_text  category\n",
       "0  when modi promised “minimum government maximum...      -1.0\n",
       "1  talk all the nonsense and continue all the dra...       0.0\n",
       "2  what did just say vote for modi  welcome bjp t...       1.0\n",
       "3  asking his supporters prefix chowkidar their n...       1.0\n",
       "4  answer who among these the most powerful world...       1.0"
      ]
     },
     "execution_count": 25,
     "metadata": {},
     "output_type": "execute_result"
    }
   ],
   "source": [
    "df.head()"
   ]
  },
  {
   "cell_type": "code",
   "execution_count": 15,
   "id": "436b2dae",
   "metadata": {},
   "outputs": [
    {
     "data": {
      "text/plain": [
       "'what did just say vote for modi  welcome bjp told you rahul the main campaigner for modi think modi should just relax'"
      ]
     },
     "execution_count": 15,
     "metadata": {},
     "output_type": "execute_result"
    }
   ],
   "source": [
    "df.iloc[2].clean_text\n"
   ]
  },
  {
   "cell_type": "code",
   "execution_count": 90,
   "id": "e80719bf",
   "metadata": {},
   "outputs": [
    {
     "data": {
      "text/plain": [
       "0         subodh kedardfsdgfshd dfdsfà¥‹à¥€ à¥€à¥‡à¤¾ à¥...\n",
       "1         subodh kedardfsdgfshd dfdsfà¥‹à¥€ à¥€à¥‡à¤¾ à¥...\n",
       "2         subodh kedardfsdgfshd dfdsfà¥‹à¥€ à¥€à¥‡à¤¾ à¥...\n",
       "3         subodh kedardfsdgfshd dfdsfà¥‹à¥€ à¥€à¥‡à¤¾ à¥...\n",
       "4         subodh kedardfsdgfshd dfdsfà¥‹à¥€ à¥€à¥‡à¤¾ à¥...\n",
       "                                ...                        \n",
       "162975    subodh kedardfsdgfshd dfdsfà¥‹à¥€ à¥€à¥‡à¤¾ à¥...\n",
       "162976    subodh kedardfsdgfshd dfdsfà¥‹à¥€ à¥€à¥‡à¤¾ à¥...\n",
       "162977    subodh kedardfsdgfshd dfdsfà¥‹à¥€ à¥€à¥‡à¤¾ à¥...\n",
       "162978    subodh kedardfsdgfshd dfdsfà¥‹à¥€ à¥€à¥‡à¤¾ à¥...\n",
       "162979    subodh kedardfsdgfshd dfdsfà¥‹à¥€ à¥€à¥‡à¤¾ à¥...\n",
       "Name: clean_text, Length: 162980, dtype: object"
      ]
     },
     "execution_count": 90,
     "metadata": {},
     "output_type": "execute_result"
    }
   ],
   "source": [
    "a"
   ]
  },
  {
   "cell_type": "code",
   "execution_count": 3,
   "id": "1cbf1517",
   "metadata": {},
   "outputs": [
    {
     "ename": "NameError",
     "evalue": "name 'df' is not defined",
     "output_type": "error",
     "traceback": [
      "\u001b[1;31m---------------------------------------------------------------------------\u001b[0m",
      "\u001b[1;31mNameError\u001b[0m                                 Traceback (most recent call last)",
      "\u001b[1;32m<ipython-input-3-fc18c9a9b65c>\u001b[0m in \u001b[0;36m<module>\u001b[1;34m\u001b[0m\n\u001b[1;32m----> 1\u001b[1;33m \u001b[0mdf\u001b[0m\u001b[1;33m[\u001b[0m\u001b[1;34m'clean_text'\u001b[0m\u001b[1;33m]\u001b[0m\u001b[1;33m\u001b[0m\u001b[1;33m\u001b[0m\u001b[0m\n\u001b[0m",
      "\u001b[1;31mNameError\u001b[0m: name 'df' is not defined"
     ]
    }
   ],
   "source": [
    "df['clean_text']"
   ]
  },
  {
   "cell_type": "code",
   "execution_count": 68,
   "id": "c2fe255c",
   "metadata": {},
   "outputs": [],
   "source": [
    "# Keep only Alphabetiic characters in dataset\n",
    "def clean_data(str): \n",
    "    #pattern = re.compile('<.*?>')\n",
    "    #result =pattern.sub('', str)\n",
    "    result = re.sub('([^\\x61-\\x7A])+', '', str)\n",
    "    return result    "
   ]
  },
  {
   "cell_type": "code",
   "execution_count": 70,
   "id": "64269cd7",
   "metadata": {},
   "outputs": [],
   "source": [
    "df['clean_text'] = df['clean_text'].apply(clean_data)"
   ]
  },
  {
   "cell_type": "code",
   "execution_count": 71,
   "id": "83847847",
   "metadata": {},
   "outputs": [
    {
     "data": {
      "text/plain": [
       "0         whenmodipromisedminimumgovernmentmaximumgovern...\n",
       "1         talkallthenonsenseandcontinueallthedramawillvo...\n",
       "2         whatdidjustsayvoteformodiwelcomebjptoldyourahu...\n",
       "3         askinghissupportersprefixchowkidartheirnamesmo...\n",
       "4         answerwhoamongthesethemostpowerfulworldleadert...\n",
       "                                ...                        \n",
       "162975    whythesecrorespaidneeravmodinotrecoveredfromco...\n",
       "162976    dearrssterroristpayalgawarwhataboutmodikilling...\n",
       "162977           didyoucoverherinteractionforumwheresheleft\n",
       "162978    therebigprojectcameintoindiamodidreamprojectbu...\n",
       "162979    haveyoueverlistenaboutlikegurukulwherediscipli...\n",
       "Name: clean_text, Length: 162980, dtype: object"
      ]
     },
     "execution_count": 71,
     "metadata": {},
     "output_type": "execute_result"
    }
   ],
   "source": [
    "df['clean_text']"
   ]
  },
  {
   "cell_type": "code",
   "execution_count": null,
   "id": "c1cec00d",
   "metadata": {},
   "outputs": [],
   "source": [
    "# Clean HTML tags present in dataset\n",
    "def strip_tags(str): \n",
    "    #import re\n",
    "    #pattern = re.compile('<.*?>')\n",
    "    #return re.sub(pattern, '',str)\n",
    "    \n",
    "    pattern = re.compile('<.*?>')\n",
    "    #ini_string ='<td>subodh<tr> kedar</td>dfsdgfshd <a href=\"a.com\">dfdsf</a>à¥‹à¥€ à¥€à¥‡à¤¾ à¥‹ à¤…à¤ªà¤¨à¤¾ à¥‡ à¤¼à¥‡à¤¾ à¥à¥ à¥‡ à¥‡à¤¾ à¥¤ kindly VOote mOgvhGGdi and nda you really love the mother countryraga and family are certified lootersLol  did ever have the defence portfolio like modi â€â™‚ï¸ rjd leader Tejashwi<br> <html>ahhd<html> yadav public â€˜thanedarâ€™ they will teach â€˜chowkidarâ€™ lesson this election public modi modi has cheated the countrymen country saw maximum unemployment under his regime communal forces have become strongerâ€™\t0';\n",
    "    #ini_string ='gvfhdsj hjbefkjew CFGDF%^R$&gmjh <td>subodh<tr> kedar</td>dfsdgfshd <a href=\"a.com\">dfdsf</a>';\n",
    "\n",
    "    #str = ini_string\n",
    "    result =pattern.sub('', str)\n",
    "    #result = re.sub('([^\\x61-\\x7A | ^\\x41-\\x5A])+', '', result)\n",
    "    return result\n",
    "    #print (\"final string:=>\", result)"
   ]
  },
  {
   "cell_type": "code",
   "execution_count": 77,
   "id": "b2cc01e8",
   "metadata": {},
   "outputs": [
    {
     "name": "stdout",
     "output_type": "stream",
     "text": [
      "final string:=> subodh kedardfsdgfshd dfdsf          kindly VOote mOgvhGGdi and nda you really love the mother countryraga and family are certified lootersLol  did ever have the defence portfolio like modi  rjd leader Tejashwi ahhd yadav public thanedar they will teach chowkidar lesson this election public modi modi has cheated the countrymen country saw maximum unemployment under his regime communal forces have become stronger\n"
     ]
    }
   ],
   "source": [
    "\n",
    "#2.Lower the review\n",
    "#3.Allow only lower case characters using ascii tables from HEX range x61-x7A\n",
    "#https://www.asciitable.com/\n",
    "\n",
    "#TAG_RE = re.compile(r'<[^>]+>')\n",
    "TAG_RE = re.compile('<.*?>')\n",
    "ini_string ='<td>subodh<tr> kedar</td>dfsdgfshd <a href=\"a.com\">dfdsf</a>à¥‹à¥€ à¥€à¥‡à¤¾ à¥‹ à¤…à¤ªà¤¨à¤¾ à¥‡ à¤¼à¥‡à¤¾ à¥à¥ à¥‡ à¥‡à¤¾ à¥¤ kindly VOote mOgvhGGdi and nda you really love the mother countryraga and family are certified lootersLol  did ever have the defence portfolio like modi â€â™‚ï¸ rjd leader Tejashwi<br> <html>ahhd<html> yadav public â€˜thanedarâ€™ they will teach â€˜chowkidarâ€™ lesson this election public modi modi has cheated the countrymen country saw maximum unemployment under his regime communal forces have become strongerâ€™\t0';\n",
    "#ini_string ='gvfhdsj hjbefkjew CFGDF%^R$&gmjh <td>subodh<tr> kedar</td>dfsdgfshd <a href=\"a.com\">dfdsf</a>';\n",
    "\n",
    "\n",
    "result =TAG_RE.sub('', ini_string)\n",
    "result = re.sub('([^\\x61-\\x7A | ^\\x41-\\x5A])+', '', result)\n",
    "print (\"final string:=>\", result)"
   ]
  }
 ],
 "metadata": {
  "kernelspec": {
   "display_name": "Python 3",
   "language": "python",
   "name": "python3"
  },
  "language_info": {
   "codemirror_mode": {
    "name": "ipython",
    "version": 3
   },
   "file_extension": ".py",
   "mimetype": "text/x-python",
   "name": "python",
   "nbconvert_exporter": "python",
   "pygments_lexer": "ipython3",
   "version": "3.8.8"
  }
 },
 "nbformat": 4,
 "nbformat_minor": 5
}
