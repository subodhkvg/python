{
 "cells": [
  {
   "cell_type": "code",
   "execution_count": 1,
   "metadata": {
    "_cell_guid": "b1076dfc-b9ad-4769-8c92-a6c4dae69d19",
    "_uuid": "8f2839f25d086af736a60e9eeb907d3b93b6e0e5",
    "execution": {
     "iopub.execute_input": "2021-10-26T06:30:05.477909Z",
     "iopub.status.busy": "2021-10-26T06:30:05.477299Z",
     "iopub.status.idle": "2021-10-26T06:30:05.492156Z",
     "shell.execute_reply": "2021-10-26T06:30:05.490918Z",
     "shell.execute_reply.started": "2021-10-26T06:30:05.477844Z"
    }
   },
   "outputs": [],
   "source": [
    "# This Python 3 environment comes with many helpful analytics libraries installed\n",
    "# It is defined by the kaggle/python Docker image: https://github.com/kaggle/docker-python\n",
    "# For example, here's several helpful packages to load\n",
    "\n",
    "import numpy as np # linear algebra\n",
    "import pandas as pd # data processing, CSV file I/O (e.g. pd.read_csv)\n",
    "import re\n",
    "# Input data files are available in the read-only \"../input/\" directory\n",
    "# For example, running this (by clicking run or pressing Shift+Enter) will list all files under the input directory\n",
    "\n",
    "#import os\n",
    "#for dirname, _, filenames in os.walk('/kaggle/input'):\n",
    "#    for filename in filenames:\n",
    "#        print(os.path.join(dirname, filename))\n",
    "\n",
    "# You can write up to 20GB to the current directory (/kaggle/working/) that gets preserved as output when you create a version using \"Save & Run All\" \n",
    "# You can also write temporary files to /kaggle/temp/, but they won't be saved outside of the current session"
   ]
  },
  {
   "cell_type": "code",
   "execution_count": 2,
   "metadata": {
    "execution": {
     "iopub.execute_input": "2021-10-26T06:30:05.494741Z",
     "iopub.status.busy": "2021-10-26T06:30:05.494307Z",
     "iopub.status.idle": "2021-10-26T06:30:06.285216Z",
     "shell.execute_reply": "2021-10-26T06:30:06.283772Z",
     "shell.execute_reply.started": "2021-10-26T06:30:05.494690Z"
    }
   },
   "outputs": [],
   "source": [
    "#read the csv\n",
    "#df = pd.read_csv(\"/kaggle/input/twitter-sentiment-dataset/Twitter_Data.csv\") \n",
    "df = pd.read_csv(\"Twitter_Data.csv\")"
   ]
  },
  {
   "cell_type": "code",
   "execution_count": 3,
   "metadata": {
    "execution": {
     "iopub.execute_input": "2021-10-26T06:30:06.287900Z",
     "iopub.status.busy": "2021-10-26T06:30:06.287505Z",
     "iopub.status.idle": "2021-10-26T06:30:06.302619Z",
     "shell.execute_reply": "2021-10-26T06:30:06.301408Z",
     "shell.execute_reply.started": "2021-10-26T06:30:06.287857Z"
    }
   },
   "outputs": [
    {
     "data": {
      "text/plain": [
       "(162980, 2)"
      ]
     },
     "execution_count": 3,
     "metadata": {},
     "output_type": "execute_result"
    }
   ],
   "source": [
    "#get no. of rows and columns\n",
    "df.shape"
   ]
  },
  {
   "cell_type": "code",
   "execution_count": 4,
   "metadata": {
    "execution": {
     "iopub.execute_input": "2021-10-26T06:30:06.306728Z",
     "iopub.status.busy": "2021-10-26T06:30:06.306300Z",
     "iopub.status.idle": "2021-10-26T06:30:06.351463Z",
     "shell.execute_reply": "2021-10-26T06:30:06.348770Z",
     "shell.execute_reply.started": "2021-10-26T06:30:06.306677Z"
    }
   },
   "outputs": [
    {
     "data": {
      "text/html": [
       "<div>\n",
       "<style scoped>\n",
       "    .dataframe tbody tr th:only-of-type {\n",
       "        vertical-align: middle;\n",
       "    }\n",
       "\n",
       "    .dataframe tbody tr th {\n",
       "        vertical-align: top;\n",
       "    }\n",
       "\n",
       "    .dataframe thead th {\n",
       "        text-align: right;\n",
       "    }\n",
       "</style>\n",
       "<table border=\"1\" class=\"dataframe\">\n",
       "  <thead>\n",
       "    <tr style=\"text-align: right;\">\n",
       "      <th></th>\n",
       "      <th>clean_text</th>\n",
       "      <th>category</th>\n",
       "    </tr>\n",
       "  </thead>\n",
       "  <tbody>\n",
       "    <tr>\n",
       "      <th>0</th>\n",
       "      <td>when modi promised “minimum government maximum...</td>\n",
       "      <td>-1.0</td>\n",
       "    </tr>\n",
       "    <tr>\n",
       "      <th>1</th>\n",
       "      <td>talk all the nonsense and continue all the dra...</td>\n",
       "      <td>0.0</td>\n",
       "    </tr>\n",
       "    <tr>\n",
       "      <th>2</th>\n",
       "      <td>what did just say vote for modi  welcome bjp t...</td>\n",
       "      <td>1.0</td>\n",
       "    </tr>\n",
       "    <tr>\n",
       "      <th>3</th>\n",
       "      <td>asking his supporters prefix chowkidar their n...</td>\n",
       "      <td>1.0</td>\n",
       "    </tr>\n",
       "    <tr>\n",
       "      <th>4</th>\n",
       "      <td>answer who among these the most powerful world...</td>\n",
       "      <td>1.0</td>\n",
       "    </tr>\n",
       "  </tbody>\n",
       "</table>\n",
       "</div>"
      ],
      "text/plain": [
       "                                          clean_text  category\n",
       "0  when modi promised “minimum government maximum...      -1.0\n",
       "1  talk all the nonsense and continue all the dra...       0.0\n",
       "2  what did just say vote for modi  welcome bjp t...       1.0\n",
       "3  asking his supporters prefix chowkidar their n...       1.0\n",
       "4  answer who among these the most powerful world...       1.0"
      ]
     },
     "execution_count": 4,
     "metadata": {},
     "output_type": "execute_result"
    }
   ],
   "source": [
    "#To list first 5 records with header\n",
    "df.head()"
   ]
  },
  {
   "cell_type": "code",
   "execution_count": 5,
   "metadata": {
    "execution": {
     "iopub.execute_input": "2021-10-26T06:30:06.353751Z",
     "iopub.status.busy": "2021-10-26T06:30:06.353391Z",
     "iopub.status.idle": "2021-10-26T06:30:06.419816Z",
     "shell.execute_reply": "2021-10-26T06:30:06.418613Z",
     "shell.execute_reply.started": "2021-10-26T06:30:06.353712Z"
    }
   },
   "outputs": [
    {
     "name": "stdout",
     "output_type": "stream",
     "text": [
      "<class 'pandas.core.frame.DataFrame'>\n",
      "RangeIndex: 162980 entries, 0 to 162979\n",
      "Data columns (total 2 columns):\n",
      " #   Column      Non-Null Count   Dtype  \n",
      "---  ------      --------------   -----  \n",
      " 0   clean_text  162976 non-null  object \n",
      " 1   category    162973 non-null  float64\n",
      "dtypes: float64(1), object(1)\n",
      "memory usage: 2.5+ MB\n"
     ]
    }
   ],
   "source": [
    "#To check if any non-null value present in the dataset\n",
    "df.info()"
   ]
  },
  {
   "cell_type": "code",
   "execution_count": 6,
   "metadata": {
    "execution": {
     "iopub.execute_input": "2021-10-26T06:30:06.422135Z",
     "iopub.status.busy": "2021-10-26T06:30:06.421550Z",
     "iopub.status.idle": "2021-10-26T06:30:06.430329Z",
     "shell.execute_reply": "2021-10-26T06:30:06.429243Z",
     "shell.execute_reply.started": "2021-10-26T06:30:06.422084Z"
    }
   },
   "outputs": [],
   "source": [
    "# Clean HTML tags present in dataset\n",
    "def strip_tags(text):         \n",
    "    pattern = re.compile('<.*?>')   \n",
    "    result = re.sub(pattern,'', str(text))\n",
    "    return result  "
   ]
  },
  {
   "cell_type": "code",
   "execution_count": 7,
   "metadata": {
    "execution": {
     "iopub.execute_input": "2021-10-26T06:30:06.432207Z",
     "iopub.status.busy": "2021-10-26T06:30:06.431885Z",
     "iopub.status.idle": "2021-10-26T06:30:06.460999Z",
     "shell.execute_reply": "2021-10-26T06:30:06.459737Z",
     "shell.execute_reply.started": "2021-10-26T06:30:06.432168Z"
    }
   },
   "outputs": [],
   "source": [
    "#lower the string\n",
    "def to_lower(str):\n",
    "    return str.lower()"
   ]
  },
  {
   "cell_type": "code",
   "execution_count": 8,
   "metadata": {
    "execution": {
     "iopub.execute_input": "2021-10-26T06:30:06.462907Z",
     "iopub.status.busy": "2021-10-26T06:30:06.462279Z",
     "iopub.status.idle": "2021-10-26T06:30:07.104676Z",
     "shell.execute_reply": "2021-10-26T06:30:07.103320Z",
     "shell.execute_reply.started": "2021-10-26T06:30:06.462857Z"
    }
   },
   "outputs": [],
   "source": [
    "#apply clean html\n",
    "df[\"clean_text\"] = df[\"clean_text\"].apply(strip_tags)"
   ]
  },
  {
   "cell_type": "code",
   "execution_count": 9,
   "metadata": {
    "execution": {
     "iopub.execute_input": "2021-10-26T06:30:07.110835Z",
     "iopub.status.busy": "2021-10-26T06:30:07.110327Z",
     "iopub.status.idle": "2021-10-26T06:30:07.123231Z",
     "shell.execute_reply": "2021-10-26T06:30:07.121448Z",
     "shell.execute_reply.started": "2021-10-26T06:30:07.110771Z"
    }
   },
   "outputs": [
    {
     "data": {
      "text/plain": [
       "0         when modi promised “minimum government maximum...\n",
       "1         talk all the nonsense and continue all the dra...\n",
       "2         what did just say vote for modi  welcome bjp t...\n",
       "3         asking his supporters prefix chowkidar their n...\n",
       "4         answer who among these the most powerful world...\n",
       "                                ...                        \n",
       "162975    why these 456 crores paid neerav modi not reco...\n",
       "162976    dear rss terrorist payal gawar what about modi...\n",
       "162977    did you cover her interaction forum where she ...\n",
       "162978    there big project came into india modi dream p...\n",
       "162979    have you ever listen about like gurukul where ...\n",
       "Name: clean_text, Length: 162980, dtype: object"
      ]
     },
     "execution_count": 9,
     "metadata": {},
     "output_type": "execute_result"
    }
   ],
   "source": [
    "df[\"clean_text\"]"
   ]
  },
  {
   "cell_type": "code",
   "execution_count": 10,
   "metadata": {
    "execution": {
     "iopub.execute_input": "2021-10-26T06:30:07.126954Z",
     "iopub.status.busy": "2021-10-26T06:30:07.125968Z",
     "iopub.status.idle": "2021-10-26T06:30:07.286762Z",
     "shell.execute_reply": "2021-10-26T06:30:07.285638Z",
     "shell.execute_reply.started": "2021-10-26T06:30:07.126865Z"
    }
   },
   "outputs": [],
   "source": [
    "#apply string lower to each sentence\n",
    "df[\"clean_text\"] = df[\"clean_text\"].apply(to_lower)"
   ]
  },
  {
   "cell_type": "code",
   "execution_count": 11,
   "metadata": {
    "execution": {
     "iopub.execute_input": "2021-10-26T06:30:07.288724Z",
     "iopub.status.busy": "2021-10-26T06:30:07.288366Z",
     "iopub.status.idle": "2021-10-26T06:30:07.300544Z",
     "shell.execute_reply": "2021-10-26T06:30:07.299440Z",
     "shell.execute_reply.started": "2021-10-26T06:30:07.288680Z"
    }
   },
   "outputs": [
    {
     "data": {
      "text/plain": [
       "0         when modi promised “minimum government maximum...\n",
       "1         talk all the nonsense and continue all the dra...\n",
       "2         what did just say vote for modi  welcome bjp t...\n",
       "3         asking his supporters prefix chowkidar their n...\n",
       "4         answer who among these the most powerful world...\n",
       "                                ...                        \n",
       "162975    why these 456 crores paid neerav modi not reco...\n",
       "162976    dear rss terrorist payal gawar what about modi...\n",
       "162977    did you cover her interaction forum where she ...\n",
       "162978    there big project came into india modi dream p...\n",
       "162979    have you ever listen about like gurukul where ...\n",
       "Name: clean_text, Length: 162980, dtype: object"
      ]
     },
     "execution_count": 11,
     "metadata": {},
     "output_type": "execute_result"
    }
   ],
   "source": [
    "df[\"clean_text\"]"
   ]
  },
  {
   "cell_type": "code",
   "execution_count": 12,
   "metadata": {
    "execution": {
     "iopub.execute_input": "2021-10-26T06:30:07.302456Z",
     "iopub.status.busy": "2021-10-26T06:30:07.302146Z",
     "iopub.status.idle": "2021-10-26T06:30:07.322001Z",
     "shell.execute_reply": "2021-10-26T06:30:07.320907Z",
     "shell.execute_reply.started": "2021-10-26T06:30:07.302407Z"
    }
   },
   "outputs": [
    {
     "data": {
      "text/plain": [
       "15    vote such party and leadershipwho can take fas...\n",
       "16                   vote modi who has not created jobs\n",
       "17    through our vote ensure govt need and deserve ...\n",
       "18    dont play with the words was talking about the...\n",
       "19    didn’ write chowkidar does mean ’ anti modi tr...\n",
       "Name: clean_text, dtype: object"
      ]
     },
     "execution_count": 12,
     "metadata": {},
     "output_type": "execute_result"
    }
   ],
   "source": [
    "df['clean_text'][15:20]"
   ]
  },
  {
   "cell_type": "code",
   "execution_count": 13,
   "metadata": {
    "execution": {
     "iopub.execute_input": "2021-10-26T06:30:07.324526Z",
     "iopub.status.busy": "2021-10-26T06:30:07.323695Z",
     "iopub.status.idle": "2021-10-26T06:30:07.338970Z",
     "shell.execute_reply": "2021-10-26T06:30:07.337832Z",
     "shell.execute_reply.started": "2021-10-26T06:30:07.324473Z"
    }
   },
   "outputs": [],
   "source": [
    "# Keep only Alphabetiic characters in dataset by using ascii tables in HEX\n",
    "def clean_data(text):     \n",
    "    result = re.sub('([^\\x61-\\x7A ])+', '', text)\n",
    "    return result  "
   ]
  },
  {
   "cell_type": "code",
   "execution_count": 14,
   "metadata": {
    "execution": {
     "iopub.execute_input": "2021-10-26T06:30:07.341328Z",
     "iopub.status.busy": "2021-10-26T06:30:07.340992Z",
     "iopub.status.idle": "2021-10-26T06:30:10.576384Z",
     "shell.execute_reply": "2021-10-26T06:30:10.575327Z",
     "shell.execute_reply.started": "2021-10-26T06:30:07.341275Z"
    }
   },
   "outputs": [],
   "source": [
    "df[\"clean_text\"] = df[\"clean_text\"].apply(clean_data)"
   ]
  },
  {
   "cell_type": "code",
   "execution_count": 15,
   "metadata": {
    "execution": {
     "iopub.execute_input": "2021-10-26T06:30:10.579629Z",
     "iopub.status.busy": "2021-10-26T06:30:10.579226Z",
     "iopub.status.idle": "2021-10-26T06:30:10.588111Z",
     "shell.execute_reply": "2021-10-26T06:30:10.587072Z",
     "shell.execute_reply.started": "2021-10-26T06:30:10.579559Z"
    }
   },
   "outputs": [
    {
     "data": {
      "text/plain": [
       "15    vote such party and leadershipwho can take fas...\n",
       "16                   vote modi who has not created jobs\n",
       "17    through our vote ensure govt need and deserve ...\n",
       "18    dont play with the words was talking about the...\n",
       "19    didn write chowkidar does mean  anti modi try ...\n",
       "Name: clean_text, dtype: object"
      ]
     },
     "execution_count": 15,
     "metadata": {},
     "output_type": "execute_result"
    }
   ],
   "source": [
    "df['clean_text'][15:20]"
   ]
  },
  {
   "cell_type": "code",
   "execution_count": 16,
   "metadata": {
    "execution": {
     "iopub.execute_input": "2021-10-26T06:30:10.590077Z",
     "iopub.status.busy": "2021-10-26T06:30:10.589742Z",
     "iopub.status.idle": "2021-10-26T06:30:10.608018Z",
     "shell.execute_reply": "2021-10-26T06:30:10.607013Z",
     "shell.execute_reply.started": "2021-10-26T06:30:10.590030Z"
    }
   },
   "outputs": [
    {
     "data": {
      "text/html": [
       "<div>\n",
       "<style scoped>\n",
       "    .dataframe tbody tr th:only-of-type {\n",
       "        vertical-align: middle;\n",
       "    }\n",
       "\n",
       "    .dataframe tbody tr th {\n",
       "        vertical-align: top;\n",
       "    }\n",
       "\n",
       "    .dataframe thead th {\n",
       "        text-align: right;\n",
       "    }\n",
       "</style>\n",
       "<table border=\"1\" class=\"dataframe\">\n",
       "  <thead>\n",
       "    <tr style=\"text-align: right;\">\n",
       "      <th></th>\n",
       "      <th>clean_text</th>\n",
       "      <th>category</th>\n",
       "    </tr>\n",
       "  </thead>\n",
       "  <tbody>\n",
       "    <tr>\n",
       "      <th>0</th>\n",
       "      <td>when modi promised minimum government maximum ...</td>\n",
       "      <td>-1.0</td>\n",
       "    </tr>\n",
       "    <tr>\n",
       "      <th>1</th>\n",
       "      <td>talk all the nonsense and continue all the dra...</td>\n",
       "      <td>0.0</td>\n",
       "    </tr>\n",
       "    <tr>\n",
       "      <th>2</th>\n",
       "      <td>what did just say vote for modi  welcome bjp t...</td>\n",
       "      <td>1.0</td>\n",
       "    </tr>\n",
       "    <tr>\n",
       "      <th>3</th>\n",
       "      <td>asking his supporters prefix chowkidar their n...</td>\n",
       "      <td>1.0</td>\n",
       "    </tr>\n",
       "    <tr>\n",
       "      <th>4</th>\n",
       "      <td>answer who among these the most powerful world...</td>\n",
       "      <td>1.0</td>\n",
       "    </tr>\n",
       "  </tbody>\n",
       "</table>\n",
       "</div>"
      ],
      "text/plain": [
       "                                          clean_text  category\n",
       "0  when modi promised minimum government maximum ...      -1.0\n",
       "1  talk all the nonsense and continue all the dra...       0.0\n",
       "2  what did just say vote for modi  welcome bjp t...       1.0\n",
       "3  asking his supporters prefix chowkidar their n...       1.0\n",
       "4  answer who among these the most powerful world...       1.0"
      ]
     },
     "execution_count": 16,
     "metadata": {},
     "output_type": "execute_result"
    }
   ],
   "source": [
    "df.head()"
   ]
  },
  {
   "cell_type": "code",
   "execution_count": 17,
   "metadata": {
    "execution": {
     "iopub.execute_input": "2021-10-26T06:30:10.609319Z",
     "iopub.status.busy": "2021-10-26T06:30:10.609035Z",
     "iopub.status.idle": "2021-10-26T06:30:10.619785Z",
     "shell.execute_reply": "2021-10-26T06:30:10.618560Z",
     "shell.execute_reply.started": "2021-10-26T06:30:10.609274Z"
    }
   },
   "outputs": [
    {
     "data": {
      "text/plain": [
       "'didn write chowkidar does mean  anti modi try visit the plz not all who haven used are anti '"
      ]
     },
     "execution_count": 17,
     "metadata": {},
     "output_type": "execute_result"
    }
   ],
   "source": [
    "df.iloc[19].clean_text"
   ]
  },
  {
   "cell_type": "code",
   "execution_count": 18,
   "metadata": {
    "execution": {
     "iopub.execute_input": "2021-10-26T06:30:10.622083Z",
     "iopub.status.busy": "2021-10-26T06:30:10.621450Z",
     "iopub.status.idle": "2021-10-26T06:30:11.583469Z",
     "shell.execute_reply": "2021-10-26T06:30:11.582524Z",
     "shell.execute_reply.started": "2021-10-26T06:30:10.622036Z"
    }
   },
   "outputs": [],
   "source": [
    "#import Natural language Toolkit library\n",
    "import nltk"
   ]
  },
  {
   "cell_type": "code",
   "execution_count": 19,
   "metadata": {
    "execution": {
     "iopub.execute_input": "2021-10-26T06:30:11.585572Z",
     "iopub.status.busy": "2021-10-26T06:30:11.585079Z",
     "iopub.status.idle": "2021-10-26T06:30:11.590646Z",
     "shell.execute_reply": "2021-10-26T06:30:11.588945Z",
     "shell.execute_reply.started": "2021-10-26T06:30:11.585523Z"
    }
   },
   "outputs": [],
   "source": [
    "#Remove stopwords like \"a\",\"the\",\"an\" which can be ignored\n",
    "from nltk.corpus import stopwords"
   ]
  },
  {
   "cell_type": "code",
   "execution_count": 20,
   "metadata": {
    "execution": {
     "iopub.execute_input": "2021-10-26T06:30:11.593143Z",
     "iopub.status.busy": "2021-10-26T06:30:11.592195Z",
     "iopub.status.idle": "2021-10-26T06:30:11.609814Z",
     "shell.execute_reply": "2021-10-26T06:30:11.608759Z",
     "shell.execute_reply.started": "2021-10-26T06:30:11.593090Z"
    }
   },
   "outputs": [],
   "source": [
    "#split the sentence and check if stopwords present in it, if not stop word then append it to another temp list till. \n",
    "#And clear the temp list after use\n",
    "def remove_stopwords(text):\n",
    "    temp = []\n",
    "    for i in text.split():        \n",
    "        if i not in stopwords.words('english'):\n",
    "            temp.append(i)            \n",
    "    result = temp[:]\n",
    "    temp.clear()\n",
    "    return result"
   ]
  },
  {
   "cell_type": "code",
   "execution_count": null,
   "metadata": {
    "execution": {
     "iopub.execute_input": "2021-10-26T06:30:11.612532Z",
     "iopub.status.busy": "2021-10-26T06:30:11.611554Z",
     "iopub.status.idle": "2021-10-26T06:37:23.276613Z",
     "shell.execute_reply": "2021-10-26T06:37:23.275729Z",
     "shell.execute_reply.started": "2021-10-26T06:30:11.612469Z"
    }
   },
   "outputs": [],
   "source": [
    "#apply remove stop words function\n",
    "df[\"clean_text\"] = df[\"clean_text\"].apply(remove_stopwords)"
   ]
  },
  {
   "cell_type": "code",
   "execution_count": null,
   "metadata": {
    "execution": {
     "iopub.execute_input": "2021-10-26T06:37:23.278739Z",
     "iopub.status.busy": "2021-10-26T06:37:23.278236Z",
     "iopub.status.idle": "2021-10-26T06:37:23.293129Z",
     "shell.execute_reply": "2021-10-26T06:37:23.292049Z",
     "shell.execute_reply.started": "2021-10-26T06:37:23.278699Z"
    }
   },
   "outputs": [],
   "source": [
    "df.head()"
   ]
  },
  {
   "cell_type": "code",
   "execution_count": null,
   "metadata": {
    "execution": {
     "iopub.execute_input": "2021-10-26T06:37:23.295273Z",
     "iopub.status.busy": "2021-10-26T06:37:23.294941Z",
     "iopub.status.idle": "2021-10-26T06:37:23.310559Z",
     "shell.execute_reply": "2021-10-26T06:37:23.309811Z",
     "shell.execute_reply.started": "2021-10-26T06:37:23.295231Z"
    }
   },
   "outputs": [],
   "source": [
    "#import library for stemming\n",
    "from nltk.stem.porter import PorterStemmer\n",
    "from nltk.tokenize import word_tokenize\n",
    "ps = PorterStemmer()\n",
    "\n"
   ]
  },
  {
   "cell_type": "code",
   "execution_count": null,
   "metadata": {
    "execution": {
     "iopub.execute_input": "2021-10-26T06:37:23.317446Z",
     "iopub.status.busy": "2021-10-26T06:37:23.316402Z",
     "iopub.status.idle": "2021-10-26T06:37:23.327623Z",
     "shell.execute_reply": "2021-10-26T06:37:23.326671Z",
     "shell.execute_reply.started": "2021-10-26T06:37:23.317385Z"
    }
   },
   "outputs": [],
   "source": [
    "#the words like \"asked\", \"asking\", \"ask\" will be stem to \"ask\" only\n",
    "def stem_words(text):\n",
    "    temp = []\n",
    "    for i in text:\n",
    "        temp.append(ps.stem(i))       \n",
    "    result = temp[:]\n",
    "    temp.clear()\n",
    "    return result\n",
    "    "
   ]
  },
  {
   "cell_type": "code",
   "execution_count": null,
   "metadata": {
    "execution": {
     "iopub.execute_input": "2021-10-26T06:37:23.329563Z",
     "iopub.status.busy": "2021-10-26T06:37:23.329098Z",
     "iopub.status.idle": "2021-10-26T06:37:23.352963Z",
     "shell.execute_reply": "2021-10-26T06:37:23.351648Z",
     "shell.execute_reply.started": "2021-10-26T06:37:23.329525Z"
    }
   },
   "outputs": [],
   "source": [
    "df[\"clean_text\"]"
   ]
  },
  {
   "cell_type": "code",
   "execution_count": null,
   "metadata": {
    "execution": {
     "iopub.execute_input": "2021-10-26T06:37:23.354902Z",
     "iopub.status.busy": "2021-10-26T06:37:23.354629Z",
     "iopub.status.idle": "2021-10-26T06:38:37.425802Z",
     "shell.execute_reply": "2021-10-26T06:38:37.424641Z",
     "shell.execute_reply.started": "2021-10-26T06:37:23.354871Z"
    }
   },
   "outputs": [],
   "source": [
    "df[\"clean_text\"] = df[\"clean_text\"].apply(stem_words)"
   ]
  },
  {
   "cell_type": "code",
   "execution_count": null,
   "metadata": {
    "execution": {
     "iopub.execute_input": "2021-10-26T06:38:37.427678Z",
     "iopub.status.busy": "2021-10-26T06:38:37.427343Z",
     "iopub.status.idle": "2021-10-26T06:38:37.443197Z",
     "shell.execute_reply": "2021-10-26T06:38:37.442384Z",
     "shell.execute_reply.started": "2021-10-26T06:38:37.427632Z"
    }
   },
   "outputs": [],
   "source": [
    "#asking has been converted into \"ask\" on line 3\n",
    "df.head()\n"
   ]
  },
  {
   "cell_type": "code",
   "execution_count": null,
   "metadata": {
    "execution": {
     "iopub.execute_input": "2021-10-26T06:38:37.445309Z",
     "iopub.status.busy": "2021-10-26T06:38:37.444560Z",
     "iopub.status.idle": "2021-10-26T06:38:37.459159Z",
     "shell.execute_reply": "2021-10-26T06:38:37.457816Z",
     "shell.execute_reply.started": "2021-10-26T06:38:37.445266Z"
    }
   },
   "outputs": [],
   "source": [
    "#Now again join words present into list to the sentence\n",
    "def list_to_sentence(wl):\n",
    "    return \" \".join(wl)"
   ]
  },
  {
   "cell_type": "code",
   "execution_count": null,
   "metadata": {
    "execution": {
     "iopub.execute_input": "2021-10-26T06:38:37.461449Z",
     "iopub.status.busy": "2021-10-26T06:38:37.461132Z",
     "iopub.status.idle": "2021-10-26T06:38:37.715840Z",
     "shell.execute_reply": "2021-10-26T06:38:37.714680Z",
     "shell.execute_reply.started": "2021-10-26T06:38:37.461416Z"
    }
   },
   "outputs": [],
   "source": [
    "#apply stem function\n",
    "df[\"clean_text\"] = df[\"clean_text\"].apply(list_to_sentence)"
   ]
  },
  {
   "cell_type": "code",
   "execution_count": null,
   "metadata": {
    "execution": {
     "iopub.execute_input": "2021-10-26T06:38:37.717772Z",
     "iopub.status.busy": "2021-10-26T06:38:37.717386Z",
     "iopub.status.idle": "2021-10-26T06:38:37.730052Z",
     "shell.execute_reply": "2021-10-26T06:38:37.729044Z",
     "shell.execute_reply.started": "2021-10-26T06:38:37.717723Z"
    }
   },
   "outputs": [],
   "source": [
    "df.head()"
   ]
  },
  {
   "cell_type": "code",
   "execution_count": null,
   "metadata": {
    "execution": {
     "iopub.execute_input": "2021-10-26T06:38:37.732943Z",
     "iopub.status.busy": "2021-10-26T06:38:37.731873Z",
     "iopub.status.idle": "2021-10-26T06:38:37.744147Z",
     "shell.execute_reply": "2021-10-26T06:38:37.742775Z",
     "shell.execute_reply.started": "2021-10-26T06:38:37.732884Z"
    }
   },
   "outputs": [],
   "source": [
    "#convert all data into columns in such a way that\n",
    "#words will be the column and row will be the frequency of that word\n",
    "#and last column will be the category\n",
    "#for this import CountVectorizer\n",
    "from sklearn.feature_extraction.text import CountVectorizer\n",
    "cv = CountVectorizer()"
   ]
  },
  {
   "cell_type": "code",
   "execution_count": null,
   "metadata": {
    "execution": {
     "iopub.execute_input": "2021-10-26T06:38:37.746582Z",
     "iopub.status.busy": "2021-10-26T06:38:37.745807Z",
     "iopub.status.idle": "2021-10-26T06:38:47.350130Z",
     "shell.execute_reply": "2021-10-26T06:38:47.348851Z",
     "shell.execute_reply.started": "2021-10-26T06:38:37.746519Z"
    }
   },
   "outputs": [],
   "source": [
    "X = cv.fit_transform(df['clean_text']).toarray()"
   ]
  },
  {
   "cell_type": "code",
   "execution_count": null,
   "metadata": {
    "execution": {
     "iopub.execute_input": "2021-10-26T06:38:47.352041Z",
     "iopub.status.busy": "2021-10-26T06:38:47.351726Z",
     "iopub.status.idle": "2021-10-26T06:38:47.359958Z",
     "shell.execute_reply": "2021-10-26T06:38:47.358899Z",
     "shell.execute_reply.started": "2021-10-26T06:38:47.352004Z"
    }
   },
   "outputs": [],
   "source": [
    "#we have 162980 sentences with words 97041\n",
    "X.shape"
   ]
  },
  {
   "cell_type": "markdown",
   "metadata": {},
   "source": [
    "Clean category column having float values"
   ]
  },
  {
   "cell_type": "code",
   "execution_count": null,
   "metadata": {
    "execution": {
     "iopub.execute_input": "2021-10-26T06:38:47.362679Z",
     "iopub.status.busy": "2021-10-26T06:38:47.362145Z",
     "iopub.status.idle": "2021-10-26T06:38:47.377648Z",
     "shell.execute_reply": "2021-10-26T06:38:47.376626Z",
     "shell.execute_reply.started": "2021-10-26T06:38:47.362619Z"
    }
   },
   "outputs": [],
   "source": [
    "df.iloc[:,-1]"
   ]
  },
  {
   "cell_type": "code",
   "execution_count": null,
   "metadata": {
    "execution": {
     "iopub.execute_input": "2021-10-26T06:40:24.850021Z",
     "iopub.status.busy": "2021-10-26T06:40:24.849549Z",
     "iopub.status.idle": "2021-10-26T06:40:24.860513Z",
     "shell.execute_reply": "2021-10-26T06:40:24.859747Z",
     "shell.execute_reply.started": "2021-10-26T06:40:24.849984Z"
    }
   },
   "outputs": [],
   "source": [
    "df[\"category\"]"
   ]
  },
  {
   "cell_type": "code",
   "execution_count": null,
   "metadata": {
    "execution": {
     "iopub.execute_input": "2021-10-26T06:40:27.800275Z",
     "iopub.status.busy": "2021-10-26T06:40:27.799948Z",
     "iopub.status.idle": "2021-10-26T06:40:27.808547Z",
     "shell.execute_reply": "2021-10-26T06:40:27.807631Z",
     "shell.execute_reply.started": "2021-10-26T06:40:27.800241Z"
    }
   },
   "outputs": [],
   "source": [
    "df[\"category\"].isna().sum()"
   ]
  },
  {
   "cell_type": "code",
   "execution_count": null,
   "metadata": {
    "execution": {
     "iopub.execute_input": "2021-10-26T06:40:41.105097Z",
     "iopub.status.busy": "2021-10-26T06:40:41.104788Z",
     "iopub.status.idle": "2021-10-26T06:40:41.141215Z",
     "shell.execute_reply": "2021-10-26T06:40:41.139992Z",
     "shell.execute_reply.started": "2021-10-26T06:40:41.105065Z"
    }
   },
   "outputs": [],
   "source": [
    "df.isnull().sum()"
   ]
  },
  {
   "cell_type": "code",
   "execution_count": null,
   "metadata": {
    "execution": {
     "iopub.execute_input": "2021-10-26T06:40:45.001188Z",
     "iopub.status.busy": "2021-10-26T06:40:45.000065Z",
     "iopub.status.idle": "2021-10-26T06:40:45.013056Z",
     "shell.execute_reply": "2021-10-26T06:40:45.011250Z",
     "shell.execute_reply.started": "2021-10-26T06:40:45.001130Z"
    }
   },
   "outputs": [],
   "source": [
    "df[\"category\"].isna().sum()"
   ]
  },
  {
   "cell_type": "code",
   "execution_count": null,
   "metadata": {
    "execution": {
     "iopub.execute_input": "2021-10-26T06:40:49.184446Z",
     "iopub.status.busy": "2021-10-26T06:40:49.183888Z",
     "iopub.status.idle": "2021-10-26T06:40:49.192964Z",
     "shell.execute_reply": "2021-10-26T06:40:49.191978Z",
     "shell.execute_reply.started": "2021-10-26T06:40:49.184391Z"
    }
   },
   "outputs": [],
   "source": [
    "df[\"category\"] = df[\"category\"].replace(np.nan, 0)"
   ]
  },
  {
   "cell_type": "code",
   "execution_count": null,
   "metadata": {
    "execution": {
     "iopub.execute_input": "2021-10-26T06:40:53.551564Z",
     "iopub.status.busy": "2021-10-26T06:40:53.551157Z",
     "iopub.status.idle": "2021-10-26T06:40:53.561255Z",
     "shell.execute_reply": "2021-10-26T06:40:53.560243Z",
     "shell.execute_reply.started": "2021-10-26T06:40:53.551522Z"
    }
   },
   "outputs": [],
   "source": [
    "df[\"category\"].isna().sum()"
   ]
  },
  {
   "cell_type": "code",
   "execution_count": null,
   "metadata": {
    "execution": {
     "iopub.execute_input": "2021-10-26T06:40:56.353841Z",
     "iopub.status.busy": "2021-10-26T06:40:56.352849Z",
     "iopub.status.idle": "2021-10-26T06:40:56.359916Z",
     "shell.execute_reply": "2021-10-26T06:40:56.358450Z",
     "shell.execute_reply.started": "2021-10-26T06:40:56.353779Z"
    }
   },
   "outputs": [],
   "source": [
    "#convert to integer\n",
    "def float_to_int(a):\n",
    "    return int(a)"
   ]
  },
  {
   "cell_type": "code",
   "execution_count": null,
   "metadata": {
    "execution": {
     "iopub.execute_input": "2021-10-26T06:40:59.352794Z",
     "iopub.status.busy": "2021-10-26T06:40:59.352408Z",
     "iopub.status.idle": "2021-10-26T06:40:59.475421Z",
     "shell.execute_reply": "2021-10-26T06:40:59.474611Z",
     "shell.execute_reply.started": "2021-10-26T06:40:59.352752Z"
    }
   },
   "outputs": [],
   "source": [
    "df[\"category\"] = df[\"category\"].apply(float_to_int)"
   ]
  },
  {
   "cell_type": "code",
   "execution_count": null,
   "metadata": {
    "execution": {
     "iopub.execute_input": "2021-10-26T06:41:03.240399Z",
     "iopub.status.busy": "2021-10-26T06:41:03.239296Z",
     "iopub.status.idle": "2021-10-26T06:41:03.249285Z",
     "shell.execute_reply": "2021-10-26T06:41:03.248510Z",
     "shell.execute_reply.started": "2021-10-26T06:41:03.240322Z"
    }
   },
   "outputs": [],
   "source": [
    "df[\"category\"]"
   ]
  },
  {
   "cell_type": "code",
   "execution_count": null,
   "metadata": {
    "execution": {
     "iopub.execute_input": "2021-10-26T06:41:06.313305Z",
     "iopub.status.busy": "2021-10-26T06:41:06.312051Z",
     "iopub.status.idle": "2021-10-26T06:41:06.318276Z",
     "shell.execute_reply": "2021-10-26T06:41:06.317511Z",
     "shell.execute_reply.started": "2021-10-26T06:41:06.313248Z"
    }
   },
   "outputs": [],
   "source": [
    "y=df.iloc[:,-1].values"
   ]
  },
  {
   "cell_type": "code",
   "execution_count": null,
   "metadata": {
    "execution": {
     "iopub.execute_input": "2021-10-26T06:41:09.880461Z",
     "iopub.status.busy": "2021-10-26T06:41:09.879897Z",
     "iopub.status.idle": "2021-10-26T06:41:09.887636Z",
     "shell.execute_reply": "2021-10-26T06:41:09.886684Z",
     "shell.execute_reply.started": "2021-10-26T06:41:09.880407Z"
    }
   },
   "outputs": [],
   "source": [
    "y.shape"
   ]
  },
  {
   "cell_type": "markdown",
   "metadata": {},
   "source": [
    "Now, We have X and y values to process the data"
   ]
  },
  {
   "cell_type": "code",
   "execution_count": null,
   "metadata": {
    "execution": {
     "iopub.execute_input": "2021-10-26T06:41:13.488583Z",
     "iopub.status.busy": "2021-10-26T06:41:13.487896Z"
    }
   },
   "outputs": [],
   "source": [
    "from sklearn.model_selection import train_test_split\n",
    "#process 20% test data\n",
    "X_train, X_test, y_train, y_test = train_test_split(X,y,test_size=0.1)"
   ]
  },
  {
   "cell_type": "code",
   "execution_count": null,
   "metadata": {
    "execution": {
     "iopub.status.busy": "2021-10-26T06:38:47.504838Z",
     "iopub.status.idle": "2021-10-26T06:38:47.505347Z",
     "shell.execute_reply": "2021-10-26T06:38:47.505143Z",
     "shell.execute_reply.started": "2021-10-26T06:38:47.505118Z"
    }
   },
   "outputs": [],
   "source": [
    "X_train.shape"
   ]
  },
  {
   "cell_type": "code",
   "execution_count": null,
   "metadata": {},
   "outputs": [],
   "source": [
    "y_train.shape"
   ]
  },
  {
   "cell_type": "code",
   "execution_count": null,
   "metadata": {
    "execution": {
     "iopub.status.busy": "2021-10-26T06:38:47.508507Z",
     "iopub.status.idle": "2021-10-26T06:38:47.508945Z",
     "shell.execute_reply": "2021-10-26T06:38:47.508784Z",
     "shell.execute_reply.started": "2021-10-26T06:38:47.508765Z"
    }
   },
   "outputs": [],
   "source": [
    "y_test.shape"
   ]
  }
 ],
 "metadata": {
  "kernelspec": {
   "display_name": "Python 3",
   "language": "python",
   "name": "python3"
  },
  "language_info": {
   "codemirror_mode": {
    "name": "ipython",
    "version": 3
   },
   "file_extension": ".py",
   "mimetype": "text/x-python",
   "name": "python",
   "nbconvert_exporter": "python",
   "pygments_lexer": "ipython3",
   "version": "3.8.8"
  }
 },
 "nbformat": 4,
 "nbformat_minor": 4
}
