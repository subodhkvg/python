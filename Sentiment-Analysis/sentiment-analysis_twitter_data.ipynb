{
 "cells": [
  {
   "cell_type": "code",
   "execution_count": 1,
   "metadata": {
    "_cell_guid": "b1076dfc-b9ad-4769-8c92-a6c4dae69d19",
    "_uuid": "8f2839f25d086af736a60e9eeb907d3b93b6e0e5",
    "execution": {
     "iopub.execute_input": "2021-10-26T10:58:23.887901Z",
     "iopub.status.busy": "2021-10-26T10:58:23.887476Z",
     "iopub.status.idle": "2021-10-26T10:58:23.927627Z",
     "shell.execute_reply": "2021-10-26T10:58:23.926806Z",
     "shell.execute_reply.started": "2021-10-26T10:58:23.887788Z"
    }
   },
   "outputs": [],
   "source": [
    "#import required libraries.\n",
    "\n",
    "import numpy as np # linear algebra\n",
    "import pandas as pd # data processing, CSV file I/O (e.g. pd.read_csv)\n",
    "import re\n"
   ]
  },
  {
   "cell_type": "code",
   "execution_count": 2,
   "metadata": {
    "execution": {
     "iopub.execute_input": "2021-10-26T10:58:23.929422Z",
     "iopub.status.busy": "2021-10-26T10:58:23.929044Z",
     "iopub.status.idle": "2021-10-26T10:58:24.762282Z",
     "shell.execute_reply": "2021-10-26T10:58:24.761322Z",
     "shell.execute_reply.started": "2021-10-26T10:58:23.929382Z"
    }
   },
   "outputs": [],
   "source": [
    "#Read the .csv file using pandas\n",
    "df = pd.read_csv(\"Twitter_Data.csv\")"
   ]
  },
  {
   "cell_type": "code",
   "execution_count": 3,
   "metadata": {
    "execution": {
     "iopub.execute_input": "2021-10-26T10:58:24.764033Z",
     "iopub.status.busy": "2021-10-26T10:58:24.763733Z",
     "iopub.status.idle": "2021-10-26T10:58:24.771851Z",
     "shell.execute_reply": "2021-10-26T10:58:24.771258Z",
     "shell.execute_reply.started": "2021-10-26T10:58:24.763992Z"
    }
   },
   "outputs": [
    {
     "data": {
      "text/plain": [
       "(162980, 2)"
      ]
     },
     "execution_count": 3,
     "metadata": {},
     "output_type": "execute_result"
    }
   ],
   "source": [
    "#get no. of rows and columns\n",
    "df.shape"
   ]
  },
  {
   "cell_type": "code",
   "execution_count": 4,
   "metadata": {
    "execution": {
     "iopub.execute_input": "2021-10-26T10:58:24.774379Z",
     "iopub.status.busy": "2021-10-26T10:58:24.773941Z",
     "iopub.status.idle": "2021-10-26T10:58:24.802771Z",
     "shell.execute_reply": "2021-10-26T10:58:24.801568Z",
     "shell.execute_reply.started": "2021-10-26T10:58:24.774331Z"
    }
   },
   "outputs": [
    {
     "data": {
      "text/html": [
       "<div>\n",
       "<style scoped>\n",
       "    .dataframe tbody tr th:only-of-type {\n",
       "        vertical-align: middle;\n",
       "    }\n",
       "\n",
       "    .dataframe tbody tr th {\n",
       "        vertical-align: top;\n",
       "    }\n",
       "\n",
       "    .dataframe thead th {\n",
       "        text-align: right;\n",
       "    }\n",
       "</style>\n",
       "<table border=\"1\" class=\"dataframe\">\n",
       "  <thead>\n",
       "    <tr style=\"text-align: right;\">\n",
       "      <th></th>\n",
       "      <th>clean_text</th>\n",
       "      <th>category</th>\n",
       "    </tr>\n",
       "  </thead>\n",
       "  <tbody>\n",
       "    <tr>\n",
       "      <th>0</th>\n",
       "      <td>when modi promised “minimum government maximum...</td>\n",
       "      <td>-1.0</td>\n",
       "    </tr>\n",
       "    <tr>\n",
       "      <th>1</th>\n",
       "      <td>talk all the nonsense and continue all the dra...</td>\n",
       "      <td>0.0</td>\n",
       "    </tr>\n",
       "    <tr>\n",
       "      <th>2</th>\n",
       "      <td>what did just say vote for modi  welcome bjp t...</td>\n",
       "      <td>1.0</td>\n",
       "    </tr>\n",
       "    <tr>\n",
       "      <th>3</th>\n",
       "      <td>asking his supporters prefix chowkidar their n...</td>\n",
       "      <td>1.0</td>\n",
       "    </tr>\n",
       "    <tr>\n",
       "      <th>4</th>\n",
       "      <td>answer who among these the most powerful world...</td>\n",
       "      <td>1.0</td>\n",
       "    </tr>\n",
       "  </tbody>\n",
       "</table>\n",
       "</div>"
      ],
      "text/plain": [
       "                                          clean_text  category\n",
       "0  when modi promised “minimum government maximum...      -1.0\n",
       "1  talk all the nonsense and continue all the dra...       0.0\n",
       "2  what did just say vote for modi  welcome bjp t...       1.0\n",
       "3  asking his supporters prefix chowkidar their n...       1.0\n",
       "4  answer who among these the most powerful world...       1.0"
      ]
     },
     "execution_count": 4,
     "metadata": {},
     "output_type": "execute_result"
    }
   ],
   "source": [
    "#To list first 5 records with header\n",
    "df.head()"
   ]
  },
  {
   "cell_type": "code",
   "execution_count": 5,
   "metadata": {
    "execution": {
     "iopub.execute_input": "2021-10-26T10:58:24.804663Z",
     "iopub.status.busy": "2021-10-26T10:58:24.804345Z",
     "iopub.status.idle": "2021-10-26T10:58:24.856917Z",
     "shell.execute_reply": "2021-10-26T10:58:24.855767Z",
     "shell.execute_reply.started": "2021-10-26T10:58:24.804627Z"
    }
   },
   "outputs": [
    {
     "name": "stdout",
     "output_type": "stream",
     "text": [
      "<class 'pandas.core.frame.DataFrame'>\n",
      "RangeIndex: 162980 entries, 0 to 162979\n",
      "Data columns (total 2 columns):\n",
      " #   Column      Non-Null Count   Dtype  \n",
      "---  ------      --------------   -----  \n",
      " 0   clean_text  162976 non-null  object \n",
      " 1   category    162973 non-null  float64\n",
      "dtypes: float64(1), object(1)\n",
      "memory usage: 2.5+ MB\n"
     ]
    }
   ],
   "source": [
    "#To check if any non-null value present in the dataset\n",
    "df.info()"
   ]
  },
  {
   "cell_type": "markdown",
   "metadata": {},
   "source": [
    "### Clean the data"
   ]
  },
  {
   "cell_type": "code",
   "execution_count": 6,
   "metadata": {
    "execution": {
     "iopub.execute_input": "2021-10-26T10:58:24.858521Z",
     "iopub.status.busy": "2021-10-26T10:58:24.858267Z",
     "iopub.status.idle": "2021-10-26T10:58:24.863888Z",
     "shell.execute_reply": "2021-10-26T10:58:24.862985Z",
     "shell.execute_reply.started": "2021-10-26T10:58:24.858490Z"
    }
   },
   "outputs": [],
   "source": [
    "# Clean HTML tags present in dataset\n",
    "def strip_tags(text):         \n",
    "    pattern = re.compile('<.*?>')   \n",
    "    result = re.sub(pattern,'', str(text))\n",
    "    return result  "
   ]
  },
  {
   "cell_type": "code",
   "execution_count": 7,
   "metadata": {
    "execution": {
     "iopub.execute_input": "2021-10-26T10:58:24.865984Z",
     "iopub.status.busy": "2021-10-26T10:58:24.865260Z",
     "iopub.status.idle": "2021-10-26T10:58:24.877965Z",
     "shell.execute_reply": "2021-10-26T10:58:24.876819Z",
     "shell.execute_reply.started": "2021-10-26T10:58:24.865951Z"
    }
   },
   "outputs": [],
   "source": [
    "#lower the string\n",
    "def to_lower(str):\n",
    "    return str.lower()"
   ]
  },
  {
   "cell_type": "code",
   "execution_count": 8,
   "metadata": {
    "execution": {
     "iopub.execute_input": "2021-10-26T10:58:24.879619Z",
     "iopub.status.busy": "2021-10-26T10:58:24.879015Z",
     "iopub.status.idle": "2021-10-26T10:58:25.429153Z",
     "shell.execute_reply": "2021-10-26T10:58:25.428197Z",
     "shell.execute_reply.started": "2021-10-26T10:58:24.879569Z"
    }
   },
   "outputs": [],
   "source": [
    "#apply clean html\n",
    "df[\"clean_text\"] = df[\"clean_text\"].apply(strip_tags)"
   ]
  },
  {
   "cell_type": "code",
   "execution_count": 9,
   "metadata": {
    "execution": {
     "iopub.execute_input": "2021-10-26T10:58:25.430792Z",
     "iopub.status.busy": "2021-10-26T10:58:25.430543Z",
     "iopub.status.idle": "2021-10-26T10:58:25.440135Z",
     "shell.execute_reply": "2021-10-26T10:58:25.439039Z",
     "shell.execute_reply.started": "2021-10-26T10:58:25.430761Z"
    }
   },
   "outputs": [
    {
     "data": {
      "text/plain": [
       "0         when modi promised “minimum government maximum...\n",
       "1         talk all the nonsense and continue all the dra...\n",
       "2         what did just say vote for modi  welcome bjp t...\n",
       "3         asking his supporters prefix chowkidar their n...\n",
       "4         answer who among these the most powerful world...\n",
       "                                ...                        \n",
       "162975    why these 456 crores paid neerav modi not reco...\n",
       "162976    dear rss terrorist payal gawar what about modi...\n",
       "162977    did you cover her interaction forum where she ...\n",
       "162978    there big project came into india modi dream p...\n",
       "162979    have you ever listen about like gurukul where ...\n",
       "Name: clean_text, Length: 162980, dtype: object"
      ]
     },
     "execution_count": 9,
     "metadata": {},
     "output_type": "execute_result"
    }
   ],
   "source": [
    "df[\"clean_text\"]"
   ]
  },
  {
   "cell_type": "code",
   "execution_count": 10,
   "metadata": {
    "execution": {
     "iopub.execute_input": "2021-10-26T10:58:25.444077Z",
     "iopub.status.busy": "2021-10-26T10:58:25.443808Z",
     "iopub.status.idle": "2021-10-26T10:58:25.591795Z",
     "shell.execute_reply": "2021-10-26T10:58:25.591060Z",
     "shell.execute_reply.started": "2021-10-26T10:58:25.444045Z"
    }
   },
   "outputs": [],
   "source": [
    "#apply string lower to each sentence\n",
    "df[\"clean_text\"] = df[\"clean_text\"].apply(to_lower)"
   ]
  },
  {
   "cell_type": "code",
   "execution_count": 11,
   "metadata": {
    "execution": {
     "iopub.execute_input": "2021-10-26T10:58:25.593565Z",
     "iopub.status.busy": "2021-10-26T10:58:25.593283Z",
     "iopub.status.idle": "2021-10-26T10:58:25.602431Z",
     "shell.execute_reply": "2021-10-26T10:58:25.601822Z",
     "shell.execute_reply.started": "2021-10-26T10:58:25.593531Z"
    }
   },
   "outputs": [
    {
     "data": {
      "text/plain": [
       "0         when modi promised “minimum government maximum...\n",
       "1         talk all the nonsense and continue all the dra...\n",
       "2         what did just say vote for modi  welcome bjp t...\n",
       "3         asking his supporters prefix chowkidar their n...\n",
       "4         answer who among these the most powerful world...\n",
       "                                ...                        \n",
       "162975    why these 456 crores paid neerav modi not reco...\n",
       "162976    dear rss terrorist payal gawar what about modi...\n",
       "162977    did you cover her interaction forum where she ...\n",
       "162978    there big project came into india modi dream p...\n",
       "162979    have you ever listen about like gurukul where ...\n",
       "Name: clean_text, Length: 162980, dtype: object"
      ]
     },
     "execution_count": 11,
     "metadata": {},
     "output_type": "execute_result"
    }
   ],
   "source": [
    "df[\"clean_text\"]"
   ]
  },
  {
   "cell_type": "code",
   "execution_count": 12,
   "metadata": {
    "execution": {
     "iopub.execute_input": "2021-10-26T10:58:25.604821Z",
     "iopub.status.busy": "2021-10-26T10:58:25.603788Z",
     "iopub.status.idle": "2021-10-26T10:58:25.617389Z",
     "shell.execute_reply": "2021-10-26T10:58:25.616168Z",
     "shell.execute_reply.started": "2021-10-26T10:58:25.604779Z"
    }
   },
   "outputs": [
    {
     "data": {
      "text/plain": [
       "15    vote such party and leadershipwho can take fas...\n",
       "16                   vote modi who has not created jobs\n",
       "17    through our vote ensure govt need and deserve ...\n",
       "18    dont play with the words was talking about the...\n",
       "19    didn’ write chowkidar does mean ’ anti modi tr...\n",
       "Name: clean_text, dtype: object"
      ]
     },
     "execution_count": 12,
     "metadata": {},
     "output_type": "execute_result"
    }
   ],
   "source": [
    "df['clean_text'][15:20]"
   ]
  },
  {
   "cell_type": "markdown",
   "metadata": {},
   "source": [
    "### Allow only characters"
   ]
  },
  {
   "cell_type": "code",
   "execution_count": 13,
   "metadata": {
    "execution": {
     "iopub.execute_input": "2021-10-26T10:58:25.619758Z",
     "iopub.status.busy": "2021-10-26T10:58:25.619128Z",
     "iopub.status.idle": "2021-10-26T10:58:25.628928Z",
     "shell.execute_reply": "2021-10-26T10:58:25.628020Z",
     "shell.execute_reply.started": "2021-10-26T10:58:25.619708Z"
    }
   },
   "outputs": [],
   "source": [
    "# Keep only Alphabetiic characters in dataset by using ascii tables in HEX\n",
    "def clean_data(text):     \n",
    "    result = re.sub('([^\\x61-\\x7A ])+', '', text)\n",
    "    return result  "
   ]
  },
  {
   "cell_type": "code",
   "execution_count": 14,
   "metadata": {
    "execution": {
     "iopub.execute_input": "2021-10-26T10:58:25.631705Z",
     "iopub.status.busy": "2021-10-26T10:58:25.631363Z",
     "iopub.status.idle": "2021-10-26T10:58:28.843040Z",
     "shell.execute_reply": "2021-10-26T10:58:28.841974Z",
     "shell.execute_reply.started": "2021-10-26T10:58:25.631666Z"
    }
   },
   "outputs": [],
   "source": [
    "df[\"clean_text\"] = df[\"clean_text\"].apply(clean_data)"
   ]
  },
  {
   "cell_type": "code",
   "execution_count": 15,
   "metadata": {
    "execution": {
     "iopub.execute_input": "2021-10-26T10:58:28.845206Z",
     "iopub.status.busy": "2021-10-26T10:58:28.844602Z",
     "iopub.status.idle": "2021-10-26T10:58:28.854170Z",
     "shell.execute_reply": "2021-10-26T10:58:28.853017Z",
     "shell.execute_reply.started": "2021-10-26T10:58:28.845139Z"
    }
   },
   "outputs": [
    {
     "data": {
      "text/plain": [
       "15    vote such party and leadershipwho can take fas...\n",
       "16                   vote modi who has not created jobs\n",
       "17    through our vote ensure govt need and deserve ...\n",
       "18    dont play with the words was talking about the...\n",
       "19    didn write chowkidar does mean  anti modi try ...\n",
       "Name: clean_text, dtype: object"
      ]
     },
     "execution_count": 15,
     "metadata": {},
     "output_type": "execute_result"
    }
   ],
   "source": [
    "df['clean_text'][15:20]"
   ]
  },
  {
   "cell_type": "code",
   "execution_count": 16,
   "metadata": {
    "execution": {
     "iopub.execute_input": "2021-10-26T10:58:28.855767Z",
     "iopub.status.busy": "2021-10-26T10:58:28.855489Z",
     "iopub.status.idle": "2021-10-26T10:58:28.872061Z",
     "shell.execute_reply": "2021-10-26T10:58:28.871383Z",
     "shell.execute_reply.started": "2021-10-26T10:58:28.855727Z"
    }
   },
   "outputs": [
    {
     "data": {
      "text/html": [
       "<div>\n",
       "<style scoped>\n",
       "    .dataframe tbody tr th:only-of-type {\n",
       "        vertical-align: middle;\n",
       "    }\n",
       "\n",
       "    .dataframe tbody tr th {\n",
       "        vertical-align: top;\n",
       "    }\n",
       "\n",
       "    .dataframe thead th {\n",
       "        text-align: right;\n",
       "    }\n",
       "</style>\n",
       "<table border=\"1\" class=\"dataframe\">\n",
       "  <thead>\n",
       "    <tr style=\"text-align: right;\">\n",
       "      <th></th>\n",
       "      <th>clean_text</th>\n",
       "      <th>category</th>\n",
       "    </tr>\n",
       "  </thead>\n",
       "  <tbody>\n",
       "    <tr>\n",
       "      <th>0</th>\n",
       "      <td>when modi promised minimum government maximum ...</td>\n",
       "      <td>-1.0</td>\n",
       "    </tr>\n",
       "    <tr>\n",
       "      <th>1</th>\n",
       "      <td>talk all the nonsense and continue all the dra...</td>\n",
       "      <td>0.0</td>\n",
       "    </tr>\n",
       "    <tr>\n",
       "      <th>2</th>\n",
       "      <td>what did just say vote for modi  welcome bjp t...</td>\n",
       "      <td>1.0</td>\n",
       "    </tr>\n",
       "    <tr>\n",
       "      <th>3</th>\n",
       "      <td>asking his supporters prefix chowkidar their n...</td>\n",
       "      <td>1.0</td>\n",
       "    </tr>\n",
       "    <tr>\n",
       "      <th>4</th>\n",
       "      <td>answer who among these the most powerful world...</td>\n",
       "      <td>1.0</td>\n",
       "    </tr>\n",
       "  </tbody>\n",
       "</table>\n",
       "</div>"
      ],
      "text/plain": [
       "                                          clean_text  category\n",
       "0  when modi promised minimum government maximum ...      -1.0\n",
       "1  talk all the nonsense and continue all the dra...       0.0\n",
       "2  what did just say vote for modi  welcome bjp t...       1.0\n",
       "3  asking his supporters prefix chowkidar their n...       1.0\n",
       "4  answer who among these the most powerful world...       1.0"
      ]
     },
     "execution_count": 16,
     "metadata": {},
     "output_type": "execute_result"
    }
   ],
   "source": [
    "df.head()"
   ]
  },
  {
   "cell_type": "code",
   "execution_count": 17,
   "metadata": {
    "execution": {
     "iopub.execute_input": "2021-10-26T10:58:28.874031Z",
     "iopub.status.busy": "2021-10-26T10:58:28.873788Z",
     "iopub.status.idle": "2021-10-26T10:58:28.880341Z",
     "shell.execute_reply": "2021-10-26T10:58:28.879726Z",
     "shell.execute_reply.started": "2021-10-26T10:58:28.873992Z"
    }
   },
   "outputs": [
    {
     "data": {
      "text/plain": [
       "'didn write chowkidar does mean  anti modi try visit the plz not all who haven used are anti '"
      ]
     },
     "execution_count": 17,
     "metadata": {},
     "output_type": "execute_result"
    }
   ],
   "source": [
    "df.iloc[19].clean_text"
   ]
  },
  {
   "cell_type": "markdown",
   "metadata": {},
   "source": [
    "### Remove stop words"
   ]
  },
  {
   "cell_type": "code",
   "execution_count": 18,
   "metadata": {
    "execution": {
     "iopub.execute_input": "2021-10-26T10:58:28.882421Z",
     "iopub.status.busy": "2021-10-26T10:58:28.881779Z",
     "iopub.status.idle": "2021-10-26T10:58:30.736139Z",
     "shell.execute_reply": "2021-10-26T10:58:30.735083Z",
     "shell.execute_reply.started": "2021-10-26T10:58:28.882382Z"
    }
   },
   "outputs": [],
   "source": [
    "#import Natural language Toolkit library\n",
    "import nltk"
   ]
  },
  {
   "cell_type": "code",
   "execution_count": 19,
   "metadata": {
    "execution": {
     "iopub.execute_input": "2021-10-26T10:58:30.738965Z",
     "iopub.status.busy": "2021-10-26T10:58:30.737829Z",
     "iopub.status.idle": "2021-10-26T10:58:30.744138Z",
     "shell.execute_reply": "2021-10-26T10:58:30.743088Z",
     "shell.execute_reply.started": "2021-10-26T10:58:30.738913Z"
    }
   },
   "outputs": [],
   "source": [
    "#Remove stopwords like \"a\",\"the\",\"an\" which can be ignored\n",
    "from nltk.corpus import stopwords"
   ]
  },
  {
   "cell_type": "code",
   "execution_count": 20,
   "metadata": {
    "execution": {
     "iopub.execute_input": "2021-10-26T10:58:30.746906Z",
     "iopub.status.busy": "2021-10-26T10:58:30.745754Z",
     "iopub.status.idle": "2021-10-26T10:58:30.756904Z",
     "shell.execute_reply": "2021-10-26T10:58:30.756199Z",
     "shell.execute_reply.started": "2021-10-26T10:58:30.746815Z"
    }
   },
   "outputs": [],
   "source": [
    "#split the sentence and check if stopwords present in it, if not stop word then append it to another temp list till. \n",
    "#And clear the temp list after use\n",
    "def remove_stopwords(text):\n",
    "    temp = []\n",
    "    for i in text.split():        \n",
    "        if i not in stopwords.words('english'):\n",
    "            temp.append(i)            \n",
    "    result = temp[:]\n",
    "    temp.clear()\n",
    "    return result"
   ]
  },
  {
   "cell_type": "code",
   "execution_count": 21,
   "metadata": {
    "execution": {
     "iopub.execute_input": "2021-10-26T10:58:30.759441Z",
     "iopub.status.busy": "2021-10-26T10:58:30.758780Z",
     "iopub.status.idle": "2021-10-26T11:05:24.900410Z",
     "shell.execute_reply": "2021-10-26T11:05:24.899389Z",
     "shell.execute_reply.started": "2021-10-26T10:58:30.759394Z"
    }
   },
   "outputs": [],
   "source": [
    "#apply remove stop words function\n",
    "df[\"clean_text\"] = df[\"clean_text\"].apply(remove_stopwords)"
   ]
  },
  {
   "cell_type": "code",
   "execution_count": 22,
   "metadata": {
    "execution": {
     "iopub.execute_input": "2021-10-26T11:05:24.902399Z",
     "iopub.status.busy": "2021-10-26T11:05:24.902061Z",
     "iopub.status.idle": "2021-10-26T11:05:24.918315Z",
     "shell.execute_reply": "2021-10-26T11:05:24.917356Z",
     "shell.execute_reply.started": "2021-10-26T11:05:24.902354Z"
    }
   },
   "outputs": [
    {
     "data": {
      "text/html": [
       "<div>\n",
       "<style scoped>\n",
       "    .dataframe tbody tr th:only-of-type {\n",
       "        vertical-align: middle;\n",
       "    }\n",
       "\n",
       "    .dataframe tbody tr th {\n",
       "        vertical-align: top;\n",
       "    }\n",
       "\n",
       "    .dataframe thead th {\n",
       "        text-align: right;\n",
       "    }\n",
       "</style>\n",
       "<table border=\"1\" class=\"dataframe\">\n",
       "  <thead>\n",
       "    <tr style=\"text-align: right;\">\n",
       "      <th></th>\n",
       "      <th>clean_text</th>\n",
       "      <th>category</th>\n",
       "    </tr>\n",
       "  </thead>\n",
       "  <tbody>\n",
       "    <tr>\n",
       "      <th>0</th>\n",
       "      <td>[modi, promised, minimum, government, maximum,...</td>\n",
       "      <td>-1.0</td>\n",
       "    </tr>\n",
       "    <tr>\n",
       "      <th>1</th>\n",
       "      <td>[talk, nonsense, continue, drama, vote, modi]</td>\n",
       "      <td>0.0</td>\n",
       "    </tr>\n",
       "    <tr>\n",
       "      <th>2</th>\n",
       "      <td>[say, vote, modi, welcome, bjp, told, rahul, m...</td>\n",
       "      <td>1.0</td>\n",
       "    </tr>\n",
       "    <tr>\n",
       "      <th>3</th>\n",
       "      <td>[asking, supporters, prefix, chowkidar, names,...</td>\n",
       "      <td>1.0</td>\n",
       "    </tr>\n",
       "    <tr>\n",
       "      <th>4</th>\n",
       "      <td>[answer, among, powerful, world, leader, today...</td>\n",
       "      <td>1.0</td>\n",
       "    </tr>\n",
       "  </tbody>\n",
       "</table>\n",
       "</div>"
      ],
      "text/plain": [
       "                                          clean_text  category\n",
       "0  [modi, promised, minimum, government, maximum,...      -1.0\n",
       "1      [talk, nonsense, continue, drama, vote, modi]       0.0\n",
       "2  [say, vote, modi, welcome, bjp, told, rahul, m...       1.0\n",
       "3  [asking, supporters, prefix, chowkidar, names,...       1.0\n",
       "4  [answer, among, powerful, world, leader, today...       1.0"
      ]
     },
     "execution_count": 22,
     "metadata": {},
     "output_type": "execute_result"
    }
   ],
   "source": [
    "df.head()"
   ]
  },
  {
   "cell_type": "markdown",
   "metadata": {},
   "source": [
    "### Stem the words"
   ]
  },
  {
   "cell_type": "code",
   "execution_count": 23,
   "metadata": {
    "execution": {
     "iopub.execute_input": "2021-10-26T11:05:24.920061Z",
     "iopub.status.busy": "2021-10-26T11:05:24.919809Z",
     "iopub.status.idle": "2021-10-26T11:05:24.932803Z",
     "shell.execute_reply": "2021-10-26T11:05:24.931755Z",
     "shell.execute_reply.started": "2021-10-26T11:05:24.920031Z"
    }
   },
   "outputs": [],
   "source": [
    "#import library for stemming\n",
    "from nltk.stem.porter import PorterStemmer\n",
    "from nltk.tokenize import word_tokenize\n",
    "ps = PorterStemmer()\n",
    "\n"
   ]
  },
  {
   "cell_type": "code",
   "execution_count": 24,
   "metadata": {
    "execution": {
     "iopub.execute_input": "2021-10-26T11:05:24.935139Z",
     "iopub.status.busy": "2021-10-26T11:05:24.934636Z",
     "iopub.status.idle": "2021-10-26T11:05:24.949327Z",
     "shell.execute_reply": "2021-10-26T11:05:24.948452Z",
     "shell.execute_reply.started": "2021-10-26T11:05:24.935103Z"
    }
   },
   "outputs": [],
   "source": [
    "#the words like \"asked\", \"asking\", \"ask\" will be stem to \"ask\" only\n",
    "def stem_words(text):\n",
    "    temp = []\n",
    "    for i in text:\n",
    "        temp.append(ps.stem(i))       \n",
    "    result = temp[:]\n",
    "    temp.clear()\n",
    "    return result\n",
    "    "
   ]
  },
  {
   "cell_type": "code",
   "execution_count": 25,
   "metadata": {
    "execution": {
     "iopub.execute_input": "2021-10-26T11:05:24.951198Z",
     "iopub.status.busy": "2021-10-26T11:05:24.950944Z",
     "iopub.status.idle": "2021-10-26T11:05:24.971388Z",
     "shell.execute_reply": "2021-10-26T11:05:24.970485Z",
     "shell.execute_reply.started": "2021-10-26T11:05:24.951162Z"
    }
   },
   "outputs": [
    {
     "data": {
      "text/plain": [
       "0         [modi, promised, minimum, government, maximum,...\n",
       "1             [talk, nonsense, continue, drama, vote, modi]\n",
       "2         [say, vote, modi, welcome, bjp, told, rahul, m...\n",
       "3         [asking, supporters, prefix, chowkidar, names,...\n",
       "4         [answer, among, powerful, world, leader, today...\n",
       "                                ...                        \n",
       "162975    [crores, paid, neerav, modi, recovered, congre...\n",
       "162976    [dear, rss, terrorist, payal, gawar, modi, kil...\n",
       "162977                    [cover, interaction, forum, left]\n",
       "162978    [big, project, came, india, modi, dream, proje...\n",
       "162979    [ever, listen, like, gurukul, discipline, main...\n",
       "Name: clean_text, Length: 162980, dtype: object"
      ]
     },
     "execution_count": 25,
     "metadata": {},
     "output_type": "execute_result"
    }
   ],
   "source": [
    "df[\"clean_text\"]"
   ]
  },
  {
   "cell_type": "code",
   "execution_count": 26,
   "metadata": {
    "execution": {
     "iopub.execute_input": "2021-10-26T11:05:24.973317Z",
     "iopub.status.busy": "2021-10-26T11:05:24.972615Z",
     "iopub.status.idle": "2021-10-26T11:06:39.542798Z",
     "shell.execute_reply": "2021-10-26T11:06:39.541753Z",
     "shell.execute_reply.started": "2021-10-26T11:05:24.973282Z"
    }
   },
   "outputs": [],
   "source": [
    "df[\"clean_text\"] = df[\"clean_text\"].apply(stem_words)"
   ]
  },
  {
   "cell_type": "code",
   "execution_count": 27,
   "metadata": {
    "execution": {
     "iopub.execute_input": "2021-10-26T11:06:39.545231Z",
     "iopub.status.busy": "2021-10-26T11:06:39.544671Z",
     "iopub.status.idle": "2021-10-26T11:06:39.562123Z",
     "shell.execute_reply": "2021-10-26T11:06:39.560896Z",
     "shell.execute_reply.started": "2021-10-26T11:06:39.545182Z"
    }
   },
   "outputs": [
    {
     "data": {
      "text/html": [
       "<div>\n",
       "<style scoped>\n",
       "    .dataframe tbody tr th:only-of-type {\n",
       "        vertical-align: middle;\n",
       "    }\n",
       "\n",
       "    .dataframe tbody tr th {\n",
       "        vertical-align: top;\n",
       "    }\n",
       "\n",
       "    .dataframe thead th {\n",
       "        text-align: right;\n",
       "    }\n",
       "</style>\n",
       "<table border=\"1\" class=\"dataframe\">\n",
       "  <thead>\n",
       "    <tr style=\"text-align: right;\">\n",
       "      <th></th>\n",
       "      <th>clean_text</th>\n",
       "      <th>category</th>\n",
       "    </tr>\n",
       "  </thead>\n",
       "  <tbody>\n",
       "    <tr>\n",
       "      <th>0</th>\n",
       "      <td>[modi, promis, minimum, govern, maximum, gover...</td>\n",
       "      <td>-1.0</td>\n",
       "    </tr>\n",
       "    <tr>\n",
       "      <th>1</th>\n",
       "      <td>[talk, nonsens, continu, drama, vote, modi]</td>\n",
       "      <td>0.0</td>\n",
       "    </tr>\n",
       "    <tr>\n",
       "      <th>2</th>\n",
       "      <td>[say, vote, modi, welcom, bjp, told, rahul, ma...</td>\n",
       "      <td>1.0</td>\n",
       "    </tr>\n",
       "    <tr>\n",
       "      <th>3</th>\n",
       "      <td>[ask, support, prefix, chowkidar, name, modi, ...</td>\n",
       "      <td>1.0</td>\n",
       "    </tr>\n",
       "    <tr>\n",
       "      <th>4</th>\n",
       "      <td>[answer, among, power, world, leader, today, t...</td>\n",
       "      <td>1.0</td>\n",
       "    </tr>\n",
       "  </tbody>\n",
       "</table>\n",
       "</div>"
      ],
      "text/plain": [
       "                                          clean_text  category\n",
       "0  [modi, promis, minimum, govern, maximum, gover...      -1.0\n",
       "1        [talk, nonsens, continu, drama, vote, modi]       0.0\n",
       "2  [say, vote, modi, welcom, bjp, told, rahul, ma...       1.0\n",
       "3  [ask, support, prefix, chowkidar, name, modi, ...       1.0\n",
       "4  [answer, among, power, world, leader, today, t...       1.0"
      ]
     },
     "execution_count": 27,
     "metadata": {},
     "output_type": "execute_result"
    }
   ],
   "source": [
    "#asking has been converted into \"ask\" on line 3\n",
    "df.head()\n"
   ]
  },
  {
   "cell_type": "code",
   "execution_count": 28,
   "metadata": {
    "execution": {
     "iopub.execute_input": "2021-10-26T11:06:39.568707Z",
     "iopub.status.busy": "2021-10-26T11:06:39.568269Z",
     "iopub.status.idle": "2021-10-26T11:06:39.575021Z",
     "shell.execute_reply": "2021-10-26T11:06:39.574143Z",
     "shell.execute_reply.started": "2021-10-26T11:06:39.568666Z"
    }
   },
   "outputs": [],
   "source": [
    "#Now again join words present into list to the sentence\n",
    "def list_to_sentence(wl):\n",
    "    return \" \".join(wl)"
   ]
  },
  {
   "cell_type": "code",
   "execution_count": 29,
   "metadata": {
    "execution": {
     "iopub.execute_input": "2021-10-26T11:06:39.576545Z",
     "iopub.status.busy": "2021-10-26T11:06:39.576278Z",
     "iopub.status.idle": "2021-10-26T11:06:39.847533Z",
     "shell.execute_reply": "2021-10-26T11:06:39.846527Z",
     "shell.execute_reply.started": "2021-10-26T11:06:39.576513Z"
    }
   },
   "outputs": [],
   "source": [
    "#apply stem function\n",
    "df[\"clean_text\"] = df[\"clean_text\"].apply(list_to_sentence)"
   ]
  },
  {
   "cell_type": "code",
   "execution_count": 69,
   "metadata": {
    "execution": {
     "iopub.execute_input": "2021-10-26T11:06:39.849673Z",
     "iopub.status.busy": "2021-10-26T11:06:39.849331Z",
     "iopub.status.idle": "2021-10-26T11:06:39.861629Z",
     "shell.execute_reply": "2021-10-26T11:06:39.860606Z",
     "shell.execute_reply.started": "2021-10-26T11:06:39.849629Z"
    }
   },
   "outputs": [
    {
     "data": {
      "text/html": [
       "<div>\n",
       "<style scoped>\n",
       "    .dataframe tbody tr th:only-of-type {\n",
       "        vertical-align: middle;\n",
       "    }\n",
       "\n",
       "    .dataframe tbody tr th {\n",
       "        vertical-align: top;\n",
       "    }\n",
       "\n",
       "    .dataframe thead th {\n",
       "        text-align: right;\n",
       "    }\n",
       "</style>\n",
       "<table border=\"1\" class=\"dataframe\">\n",
       "  <thead>\n",
       "    <tr style=\"text-align: right;\">\n",
       "      <th></th>\n",
       "      <th>clean_text</th>\n",
       "      <th>category</th>\n",
       "    </tr>\n",
       "  </thead>\n",
       "  <tbody>\n",
       "    <tr>\n",
       "      <th>0</th>\n",
       "      <td>modi promis minimum govern maximum govern expe...</td>\n",
       "      <td>-1</td>\n",
       "    </tr>\n",
       "    <tr>\n",
       "      <th>1</th>\n",
       "      <td>talk nonsens continu drama vote modi</td>\n",
       "      <td>0</td>\n",
       "    </tr>\n",
       "    <tr>\n",
       "      <th>2</th>\n",
       "      <td>say vote modi welcom bjp told rahul main campa...</td>\n",
       "      <td>1</td>\n",
       "    </tr>\n",
       "    <tr>\n",
       "      <th>3</th>\n",
       "      <td>ask support prefix chowkidar name modi great s...</td>\n",
       "      <td>1</td>\n",
       "    </tr>\n",
       "    <tr>\n",
       "      <th>4</th>\n",
       "      <td>answer among power world leader today trump pu...</td>\n",
       "      <td>1</td>\n",
       "    </tr>\n",
       "  </tbody>\n",
       "</table>\n",
       "</div>"
      ],
      "text/plain": [
       "                                          clean_text  category\n",
       "0  modi promis minimum govern maximum govern expe...        -1\n",
       "1               talk nonsens continu drama vote modi         0\n",
       "2  say vote modi welcom bjp told rahul main campa...         1\n",
       "3  ask support prefix chowkidar name modi great s...         1\n",
       "4  answer among power world leader today trump pu...         1"
      ]
     },
     "execution_count": 69,
     "metadata": {},
     "output_type": "execute_result"
    }
   ],
   "source": [
    "df.head()"
   ]
  },
  {
   "cell_type": "code",
   "execution_count": 70,
   "metadata": {},
   "outputs": [
    {
     "data": {
      "text/plain": [
       "0         modi promis minimum govern maximum govern expe...\n",
       "1                      talk nonsens continu drama vote modi\n",
       "2         say vote modi welcom bjp told rahul main campa...\n",
       "3         ask support prefix chowkidar name modi great s...\n",
       "4         answer among power world leader today trump pu...\n",
       "                                ...                        \n",
       "162975    crore paid neerav modi recov congress leader h...\n",
       "162976    dear rss terrorist payal gawar modi kill plu m...\n",
       "162977                            cover interact forum left\n",
       "162978    big project came india modi dream project happ...\n",
       "162979    ever listen like gurukul disciplin maintain ev...\n",
       "Name: clean_text, Length: 162980, dtype: object"
      ]
     },
     "execution_count": 70,
     "metadata": {},
     "output_type": "execute_result"
    }
   ],
   "source": [
    "df[\"clean_text\"]"
   ]
  },
  {
   "cell_type": "markdown",
   "metadata": {},
   "source": [
    "### Convert words to colums"
   ]
  },
  {
   "cell_type": "markdown",
   "metadata": {},
   "source": [
    "#### To Have more accuracy we can increase the max_features"
   ]
  },
  {
   "cell_type": "code",
   "execution_count": 31,
   "metadata": {
    "execution": {
     "iopub.execute_input": "2021-10-26T11:06:39.863973Z",
     "iopub.status.busy": "2021-10-26T11:06:39.863620Z",
     "iopub.status.idle": "2021-10-26T11:06:39.873802Z",
     "shell.execute_reply": "2021-10-26T11:06:39.872682Z",
     "shell.execute_reply.started": "2021-10-26T11:06:39.863927Z"
    }
   },
   "outputs": [],
   "source": [
    "#convert all data into columns in such a way that words will be the column\n",
    "#for this process import CountVectorizer\n",
    "from sklearn.feature_extraction.text import CountVectorizer\n",
    "cv = CountVectorizer(max_features=500)#most used 500 words"
   ]
  },
  {
   "cell_type": "code",
   "execution_count": 32,
   "metadata": {
    "execution": {
     "iopub.execute_input": "2021-10-26T11:06:39.876742Z",
     "iopub.status.busy": "2021-10-26T11:06:39.875623Z",
     "iopub.status.idle": "2021-10-26T11:06:45.074923Z",
     "shell.execute_reply": "2021-10-26T11:06:45.073819Z",
     "shell.execute_reply.started": "2021-10-26T11:06:39.876682Z"
    }
   },
   "outputs": [],
   "source": [
    "X = cv.fit_transform(df['clean_text']).toarray()"
   ]
  },
  {
   "cell_type": "code",
   "execution_count": 33,
   "metadata": {
    "execution": {
     "iopub.execute_input": "2021-10-26T11:06:45.077036Z",
     "iopub.status.busy": "2021-10-26T11:06:45.076789Z",
     "iopub.status.idle": "2021-10-26T11:06:45.083718Z",
     "shell.execute_reply": "2021-10-26T11:06:45.082635Z",
     "shell.execute_reply.started": "2021-10-26T11:06:45.077007Z"
    }
   },
   "outputs": [
    {
     "data": {
      "text/plain": [
       "(162980, 500)"
      ]
     },
     "execution_count": 33,
     "metadata": {},
     "output_type": "execute_result"
    }
   ],
   "source": [
    "#we have 162980 sentences with words 97041\n",
    "X.shape"
   ]
  },
  {
   "cell_type": "code",
   "execution_count": 66,
   "metadata": {},
   "outputs": [
    {
     "data": {
      "text/plain": [
       "array([[0, 0, 0, ..., 0, 0, 0],\n",
       "       [0, 0, 0, ..., 0, 0, 0],\n",
       "       [0, 0, 0, ..., 0, 0, 0],\n",
       "       ...,\n",
       "       [0, 0, 0, ..., 0, 0, 0],\n",
       "       [0, 0, 0, ..., 0, 0, 0],\n",
       "       [0, 0, 0, ..., 0, 0, 0]], dtype=int64)"
      ]
     },
     "execution_count": 66,
     "metadata": {},
     "output_type": "execute_result"
    }
   ],
   "source": [
    "X"
   ]
  },
  {
   "cell_type": "markdown",
   "metadata": {},
   "source": [
    "#### Clean category column having float values"
   ]
  },
  {
   "cell_type": "code",
   "execution_count": 34,
   "metadata": {
    "execution": {
     "iopub.execute_input": "2021-10-26T11:06:45.086141Z",
     "iopub.status.busy": "2021-10-26T11:06:45.085323Z",
     "iopub.status.idle": "2021-10-26T11:06:45.104640Z",
     "shell.execute_reply": "2021-10-26T11:06:45.103810Z",
     "shell.execute_reply.started": "2021-10-26T11:06:45.086089Z"
    }
   },
   "outputs": [
    {
     "data": {
      "text/plain": [
       "0        -1.0\n",
       "1         0.0\n",
       "2         1.0\n",
       "3         1.0\n",
       "4         1.0\n",
       "         ... \n",
       "162975   -1.0\n",
       "162976   -1.0\n",
       "162977    0.0\n",
       "162978    0.0\n",
       "162979    1.0\n",
       "Name: category, Length: 162980, dtype: float64"
      ]
     },
     "execution_count": 34,
     "metadata": {},
     "output_type": "execute_result"
    }
   ],
   "source": [
    "df.iloc[:,-1]"
   ]
  },
  {
   "cell_type": "code",
   "execution_count": 35,
   "metadata": {
    "execution": {
     "iopub.execute_input": "2021-10-26T11:06:45.107162Z",
     "iopub.status.busy": "2021-10-26T11:06:45.106775Z",
     "iopub.status.idle": "2021-10-26T11:06:45.120915Z",
     "shell.execute_reply": "2021-10-26T11:06:45.119775Z",
     "shell.execute_reply.started": "2021-10-26T11:06:45.107127Z"
    }
   },
   "outputs": [
    {
     "data": {
      "text/plain": [
       "0        -1.0\n",
       "1         0.0\n",
       "2         1.0\n",
       "3         1.0\n",
       "4         1.0\n",
       "         ... \n",
       "162975   -1.0\n",
       "162976   -1.0\n",
       "162977    0.0\n",
       "162978    0.0\n",
       "162979    1.0\n",
       "Name: category, Length: 162980, dtype: float64"
      ]
     },
     "execution_count": 35,
     "metadata": {},
     "output_type": "execute_result"
    }
   ],
   "source": [
    "df[\"category\"]"
   ]
  },
  {
   "cell_type": "code",
   "execution_count": 36,
   "metadata": {
    "execution": {
     "iopub.execute_input": "2021-10-26T11:06:45.122790Z",
     "iopub.status.busy": "2021-10-26T11:06:45.122290Z",
     "iopub.status.idle": "2021-10-26T11:06:45.134094Z",
     "shell.execute_reply": "2021-10-26T11:06:45.132804Z",
     "shell.execute_reply.started": "2021-10-26T11:06:45.122742Z"
    }
   },
   "outputs": [
    {
     "data": {
      "text/plain": [
       "7"
      ]
     },
     "execution_count": 36,
     "metadata": {},
     "output_type": "execute_result"
    }
   ],
   "source": [
    "df[\"category\"].isna().sum()"
   ]
  },
  {
   "cell_type": "markdown",
   "metadata": {},
   "source": [
    "### Replace null values with 0"
   ]
  },
  {
   "cell_type": "code",
   "execution_count": 37,
   "metadata": {
    "execution": {
     "iopub.execute_input": "2021-10-26T11:06:45.136016Z",
     "iopub.status.busy": "2021-10-26T11:06:45.135313Z",
     "iopub.status.idle": "2021-10-26T11:06:45.171927Z",
     "shell.execute_reply": "2021-10-26T11:06:45.170915Z",
     "shell.execute_reply.started": "2021-10-26T11:06:45.135968Z"
    }
   },
   "outputs": [
    {
     "data": {
      "text/plain": [
       "clean_text    0\n",
       "category      7\n",
       "dtype: int64"
      ]
     },
     "execution_count": 37,
     "metadata": {},
     "output_type": "execute_result"
    }
   ],
   "source": [
    "df.isnull().sum()"
   ]
  },
  {
   "cell_type": "code",
   "execution_count": 38,
   "metadata": {
    "execution": {
     "iopub.execute_input": "2021-10-26T11:06:45.173386Z",
     "iopub.status.busy": "2021-10-26T11:06:45.173162Z",
     "iopub.status.idle": "2021-10-26T11:06:45.181104Z",
     "shell.execute_reply": "2021-10-26T11:06:45.180214Z",
     "shell.execute_reply.started": "2021-10-26T11:06:45.173361Z"
    }
   },
   "outputs": [
    {
     "data": {
      "text/plain": [
       "7"
      ]
     },
     "execution_count": 38,
     "metadata": {},
     "output_type": "execute_result"
    }
   ],
   "source": [
    "df[\"category\"].isna().sum()"
   ]
  },
  {
   "cell_type": "code",
   "execution_count": 39,
   "metadata": {
    "execution": {
     "iopub.execute_input": "2021-10-26T11:06:45.182529Z",
     "iopub.status.busy": "2021-10-26T11:06:45.182269Z",
     "iopub.status.idle": "2021-10-26T11:06:45.192762Z",
     "shell.execute_reply": "2021-10-26T11:06:45.191868Z",
     "shell.execute_reply.started": "2021-10-26T11:06:45.182500Z"
    }
   },
   "outputs": [],
   "source": [
    "df[\"category\"] = df[\"category\"].replace(np.nan, 0)"
   ]
  },
  {
   "cell_type": "code",
   "execution_count": 40,
   "metadata": {
    "execution": {
     "iopub.execute_input": "2021-10-26T11:06:45.194823Z",
     "iopub.status.busy": "2021-10-26T11:06:45.194588Z",
     "iopub.status.idle": "2021-10-26T11:06:45.208344Z",
     "shell.execute_reply": "2021-10-26T11:06:45.207441Z",
     "shell.execute_reply.started": "2021-10-26T11:06:45.194794Z"
    }
   },
   "outputs": [
    {
     "data": {
      "text/plain": [
       "0"
      ]
     },
     "execution_count": 40,
     "metadata": {},
     "output_type": "execute_result"
    }
   ],
   "source": [
    "df[\"category\"].isna().sum()"
   ]
  },
  {
   "cell_type": "code",
   "execution_count": 41,
   "metadata": {
    "execution": {
     "iopub.execute_input": "2021-10-26T11:06:45.210522Z",
     "iopub.status.busy": "2021-10-26T11:06:45.210127Z",
     "iopub.status.idle": "2021-10-26T11:06:45.219775Z",
     "shell.execute_reply": "2021-10-26T11:06:45.218826Z",
     "shell.execute_reply.started": "2021-10-26T11:06:45.210482Z"
    }
   },
   "outputs": [],
   "source": [
    "#convert to integer\n",
    "def float_to_int(a):\n",
    "    return int(a)"
   ]
  },
  {
   "cell_type": "code",
   "execution_count": 42,
   "metadata": {
    "execution": {
     "iopub.execute_input": "2021-10-26T11:06:45.221567Z",
     "iopub.status.busy": "2021-10-26T11:06:45.221312Z",
     "iopub.status.idle": "2021-10-26T11:06:45.356580Z",
     "shell.execute_reply": "2021-10-26T11:06:45.355413Z",
     "shell.execute_reply.started": "2021-10-26T11:06:45.221537Z"
    }
   },
   "outputs": [],
   "source": [
    "df[\"category\"] = df[\"category\"].apply(float_to_int)"
   ]
  },
  {
   "cell_type": "code",
   "execution_count": 43,
   "metadata": {
    "execution": {
     "iopub.execute_input": "2021-10-26T11:06:45.358490Z",
     "iopub.status.busy": "2021-10-26T11:06:45.358227Z",
     "iopub.status.idle": "2021-10-26T11:06:45.367749Z",
     "shell.execute_reply": "2021-10-26T11:06:45.366719Z",
     "shell.execute_reply.started": "2021-10-26T11:06:45.358437Z"
    }
   },
   "outputs": [
    {
     "data": {
      "text/plain": [
       "0        -1\n",
       "1         0\n",
       "2         1\n",
       "3         1\n",
       "4         1\n",
       "         ..\n",
       "162975   -1\n",
       "162976   -1\n",
       "162977    0\n",
       "162978    0\n",
       "162979    1\n",
       "Name: category, Length: 162980, dtype: int64"
      ]
     },
     "execution_count": 43,
     "metadata": {},
     "output_type": "execute_result"
    }
   ],
   "source": [
    "df[\"category\"]"
   ]
  },
  {
   "cell_type": "code",
   "execution_count": 44,
   "metadata": {
    "execution": {
     "iopub.execute_input": "2021-10-26T11:06:45.369804Z",
     "iopub.status.busy": "2021-10-26T11:06:45.368806Z",
     "iopub.status.idle": "2021-10-26T11:06:45.378220Z",
     "shell.execute_reply": "2021-10-26T11:06:45.377525Z",
     "shell.execute_reply.started": "2021-10-26T11:06:45.369738Z"
    }
   },
   "outputs": [],
   "source": [
    "y=df.iloc[:,-1].values"
   ]
  },
  {
   "cell_type": "code",
   "execution_count": 45,
   "metadata": {
    "execution": {
     "iopub.execute_input": "2021-10-26T11:06:45.380000Z",
     "iopub.status.busy": "2021-10-26T11:06:45.379637Z",
     "iopub.status.idle": "2021-10-26T11:06:45.393447Z",
     "shell.execute_reply": "2021-10-26T11:06:45.392642Z",
     "shell.execute_reply.started": "2021-10-26T11:06:45.379964Z"
    }
   },
   "outputs": [
    {
     "data": {
      "text/plain": [
       "(162980,)"
      ]
     },
     "execution_count": 45,
     "metadata": {},
     "output_type": "execute_result"
    }
   ],
   "source": [
    "y.shape"
   ]
  },
  {
   "cell_type": "markdown",
   "metadata": {},
   "source": [
    "### Process the data\n",
    "#### use 20% of data as test data to process"
   ]
  },
  {
   "cell_type": "markdown",
   "metadata": {},
   "source": [
    "Now, We have X and y values to process the data"
   ]
  },
  {
   "cell_type": "code",
   "execution_count": 46,
   "metadata": {
    "execution": {
     "iopub.execute_input": "2021-10-26T11:06:45.397232Z",
     "iopub.status.busy": "2021-10-26T11:06:45.395134Z",
     "iopub.status.idle": "2021-10-26T11:06:45.921712Z",
     "shell.execute_reply": "2021-10-26T11:06:45.920720Z",
     "shell.execute_reply.started": "2021-10-26T11:06:45.397152Z"
    }
   },
   "outputs": [],
   "source": [
    "from sklearn.model_selection import train_test_split\n",
    "#process 20% test data\n",
    "X_train, X_test, y_train, y_test = train_test_split(X,y,test_size=0.2)"
   ]
  },
  {
   "cell_type": "code",
   "execution_count": 47,
   "metadata": {
    "execution": {
     "iopub.execute_input": "2021-10-26T11:06:45.924332Z",
     "iopub.status.busy": "2021-10-26T11:06:45.923972Z",
     "iopub.status.idle": "2021-10-26T11:06:45.931556Z",
     "shell.execute_reply": "2021-10-26T11:06:45.930409Z",
     "shell.execute_reply.started": "2021-10-26T11:06:45.924279Z"
    }
   },
   "outputs": [
    {
     "data": {
      "text/plain": [
       "(130384, 500)"
      ]
     },
     "execution_count": 47,
     "metadata": {},
     "output_type": "execute_result"
    }
   ],
   "source": [
    "X_train.shape"
   ]
  },
  {
   "cell_type": "code",
   "execution_count": 48,
   "metadata": {
    "execution": {
     "iopub.execute_input": "2021-10-26T11:06:45.934033Z",
     "iopub.status.busy": "2021-10-26T11:06:45.933308Z",
     "iopub.status.idle": "2021-10-26T11:06:45.945543Z",
     "shell.execute_reply": "2021-10-26T11:06:45.944433Z",
     "shell.execute_reply.started": "2021-10-26T11:06:45.933983Z"
    }
   },
   "outputs": [
    {
     "data": {
      "text/plain": [
       "(130384,)"
      ]
     },
     "execution_count": 48,
     "metadata": {},
     "output_type": "execute_result"
    }
   ],
   "source": [
    "y_train.shape"
   ]
  },
  {
   "cell_type": "code",
   "execution_count": 49,
   "metadata": {
    "execution": {
     "iopub.execute_input": "2021-10-26T11:06:45.948061Z",
     "iopub.status.busy": "2021-10-26T11:06:45.947257Z",
     "iopub.status.idle": "2021-10-26T11:06:45.958536Z",
     "shell.execute_reply": "2021-10-26T11:06:45.957424Z",
     "shell.execute_reply.started": "2021-10-26T11:06:45.947952Z"
    }
   },
   "outputs": [
    {
     "data": {
      "text/plain": [
       "(32596,)"
      ]
     },
     "execution_count": 49,
     "metadata": {},
     "output_type": "execute_result"
    }
   ],
   "source": [
    "y_test.shape"
   ]
  },
  {
   "cell_type": "markdown",
   "metadata": {},
   "source": [
    "#### Apply Naive Bayes to check accuracy"
   ]
  },
  {
   "cell_type": "code",
   "execution_count": 50,
   "metadata": {
    "execution": {
     "iopub.execute_input": "2021-10-26T11:06:45.960447Z",
     "iopub.status.busy": "2021-10-26T11:06:45.960214Z",
     "iopub.status.idle": "2021-10-26T11:06:45.971633Z",
     "shell.execute_reply": "2021-10-26T11:06:45.970857Z",
     "shell.execute_reply.started": "2021-10-26T11:06:45.960419Z"
    }
   },
   "outputs": [],
   "source": [
    "#import Naive bases major classes to check the accuracy\n",
    "from sklearn.naive_bayes import GaussianNB, MultinomialNB, BernoulliNB"
   ]
  },
  {
   "cell_type": "code",
   "execution_count": 51,
   "metadata": {
    "execution": {
     "iopub.execute_input": "2021-10-26T11:06:45.973630Z",
     "iopub.status.busy": "2021-10-26T11:06:45.973180Z",
     "iopub.status.idle": "2021-10-26T11:06:45.979291Z",
     "shell.execute_reply": "2021-10-26T11:06:45.978668Z",
     "shell.execute_reply.started": "2021-10-26T11:06:45.973593Z"
    }
   },
   "outputs": [],
   "source": [
    "#Create object of each class\n",
    "gObj = GaussianNB()\n",
    "mObj = MultinomialNB()\n",
    "bObj = BernoulliNB()"
   ]
  },
  {
   "cell_type": "code",
   "execution_count": 52,
   "metadata": {
    "execution": {
     "iopub.execute_input": "2021-10-26T11:06:45.980793Z",
     "iopub.status.busy": "2021-10-26T11:06:45.980342Z",
     "iopub.status.idle": "2021-10-26T11:06:53.760450Z",
     "shell.execute_reply": "2021-10-26T11:06:53.759510Z",
     "shell.execute_reply.started": "2021-10-26T11:06:45.980758Z"
    }
   },
   "outputs": [
    {
     "data": {
      "text/plain": [
       "BernoulliNB()"
      ]
     },
     "execution_count": 52,
     "metadata": {},
     "output_type": "execute_result"
    }
   ],
   "source": [
    "#Pass the data to train\n",
    "gObj.fit(X_train, y_train)\n",
    "mObj.fit(X_train, y_train)\n",
    "bObj.fit(X_train, y_train)"
   ]
  },
  {
   "cell_type": "code",
   "execution_count": 53,
   "metadata": {
    "execution": {
     "iopub.execute_input": "2021-10-26T11:06:53.762292Z",
     "iopub.status.busy": "2021-10-26T11:06:53.762010Z",
     "iopub.status.idle": "2021-10-26T11:06:54.359880Z",
     "shell.execute_reply": "2021-10-26T11:06:54.358861Z",
     "shell.execute_reply.started": "2021-10-26T11:06:53.762261Z"
    }
   },
   "outputs": [
    {
     "data": {
      "text/plain": [
       "(32596,)"
      ]
     },
     "execution_count": 53,
     "metadata": {},
     "output_type": "execute_result"
    }
   ],
   "source": [
    "#Create predict: The predict obj shape should be same as test obj shape\n",
    "y_pred_gauss = gObj.predict(X_test)\n",
    "y_pred_gauss.shape\n"
   ]
  },
  {
   "cell_type": "code",
   "execution_count": 54,
   "metadata": {
    "execution": {
     "iopub.execute_input": "2021-10-26T11:06:54.362127Z",
     "iopub.status.busy": "2021-10-26T11:06:54.361808Z",
     "iopub.status.idle": "2021-10-26T11:06:54.509868Z",
     "shell.execute_reply": "2021-10-26T11:06:54.508994Z",
     "shell.execute_reply.started": "2021-10-26T11:06:54.362084Z"
    }
   },
   "outputs": [
    {
     "data": {
      "text/plain": [
       "(32596,)"
      ]
     },
     "execution_count": 54,
     "metadata": {},
     "output_type": "execute_result"
    }
   ],
   "source": [
    "y_pred_multinom = mObj.predict(X_test)\n",
    "y_pred_multinom.shape"
   ]
  },
  {
   "cell_type": "code",
   "execution_count": 55,
   "metadata": {
    "execution": {
     "iopub.execute_input": "2021-10-26T11:06:54.512127Z",
     "iopub.status.busy": "2021-10-26T11:06:54.511446Z",
     "iopub.status.idle": "2021-10-26T11:06:54.744755Z",
     "shell.execute_reply": "2021-10-26T11:06:54.743842Z",
     "shell.execute_reply.started": "2021-10-26T11:06:54.512074Z"
    }
   },
   "outputs": [
    {
     "data": {
      "text/plain": [
       "(32596,)"
      ]
     },
     "execution_count": 55,
     "metadata": {},
     "output_type": "execute_result"
    }
   ],
   "source": [
    "y_pred_berno = bObj.predict(X_test)\n",
    "y_pred_berno.shape"
   ]
  },
  {
   "cell_type": "markdown",
   "metadata": {},
   "source": [
    "### Scores"
   ]
  },
  {
   "cell_type": "code",
   "execution_count": 56,
   "metadata": {
    "execution": {
     "iopub.execute_input": "2021-10-26T11:06:54.747254Z",
     "iopub.status.busy": "2021-10-26T11:06:54.746678Z",
     "iopub.status.idle": "2021-10-26T11:06:54.754268Z",
     "shell.execute_reply": "2021-10-26T11:06:54.753038Z",
     "shell.execute_reply.started": "2021-10-26T11:06:54.747203Z"
    }
   },
   "outputs": [],
   "source": [
    "from sklearn.metrics import accuracy_score"
   ]
  },
  {
   "cell_type": "code",
   "execution_count": 57,
   "metadata": {
    "execution": {
     "iopub.execute_input": "2021-10-26T11:06:54.759121Z",
     "iopub.status.busy": "2021-10-26T11:06:54.757147Z",
     "iopub.status.idle": "2021-10-26T11:06:54.778979Z",
     "shell.execute_reply": "2021-10-26T11:06:54.777171Z",
     "shell.execute_reply.started": "2021-10-26T11:06:54.759053Z"
    }
   },
   "outputs": [
    {
     "name": "stdout",
     "output_type": "stream",
     "text": [
      "Gaussian 0.6801754816541907\n"
     ]
    }
   ],
   "source": [
    "#accuracy score for Gaussian\n",
    "print(\"Gaussian\", accuracy_score(y_test,y_pred_gauss))"
   ]
  },
  {
   "cell_type": "code",
   "execution_count": 58,
   "metadata": {
    "execution": {
     "iopub.execute_input": "2021-10-26T11:06:54.789801Z",
     "iopub.status.busy": "2021-10-26T11:06:54.786240Z",
     "iopub.status.idle": "2021-10-26T11:06:54.807994Z",
     "shell.execute_reply": "2021-10-26T11:06:54.806382Z",
     "shell.execute_reply.started": "2021-10-26T11:06:54.789708Z"
    }
   },
   "outputs": [
    {
     "name": "stdout",
     "output_type": "stream",
     "text": [
      "Multinomial 0.6761565836298933\n"
     ]
    }
   ],
   "source": [
    "#accuracy score for Multinomial\n",
    "print(\"Multinomial\", accuracy_score(y_test,y_pred_multinom))"
   ]
  },
  {
   "cell_type": "code",
   "execution_count": 59,
   "metadata": {
    "execution": {
     "iopub.execute_input": "2021-10-26T11:06:54.819242Z",
     "iopub.status.busy": "2021-10-26T11:06:54.814299Z",
     "iopub.status.idle": "2021-10-26T11:06:54.838111Z",
     "shell.execute_reply": "2021-10-26T11:06:54.836282Z",
     "shell.execute_reply.started": "2021-10-26T11:06:54.819132Z"
    }
   },
   "outputs": [
    {
     "name": "stdout",
     "output_type": "stream",
     "text": [
      "BernoulliNB 0.6964965026383605\n"
     ]
    }
   ],
   "source": [
    "#accuracy score for BernoulliNB\n",
    "print(\"BernoulliNB\", accuracy_score(y_test,y_pred_berno))"
   ]
  },
  {
   "cell_type": "markdown",
   "metadata": {},
   "source": [
    "### Output"
   ]
  },
  {
   "cell_type": "code",
   "execution_count": 60,
   "metadata": {
    "execution": {
     "iopub.execute_input": "2021-10-26T11:22:06.057027Z",
     "iopub.status.busy": "2021-10-26T11:22:06.056709Z",
     "iopub.status.idle": "2021-10-26T11:22:06.069036Z",
     "shell.execute_reply": "2021-10-26T11:22:06.067679Z",
     "shell.execute_reply.started": "2021-10-26T11:22:06.056997Z"
    }
   },
   "outputs": [
    {
     "name": "stdout",
     "output_type": "stream",
     "text": [
      "1\n",
      "1\n",
      "1\n"
     ]
    }
   ],
   "source": [
    "#Crosschek - Output for positive\n",
    "data = {\n",
    "  \"text\": [\"Discussion was very good\"]\n",
    "}    \n",
    "dfx = pd.DataFrame(data)\n",
    "Xcheck = cv.transform(dfx['text']).toarray()\n",
    "print(bObj.predict(Xcheck)[0])\n",
    "print(mObj.predict(Xcheck)[0])\n",
    "print(gObj.predict(Xcheck)[0])"
   ]
  },
  {
   "cell_type": "code",
   "execution_count": 61,
   "metadata": {
    "execution": {
     "iopub.execute_input": "2021-10-26T11:21:08.635317Z",
     "iopub.status.busy": "2021-10-26T11:21:08.634907Z",
     "iopub.status.idle": "2021-10-26T11:21:08.645420Z",
     "shell.execute_reply": "2021-10-26T11:21:08.644835Z",
     "shell.execute_reply.started": "2021-10-26T11:21:08.635286Z"
    }
   },
   "outputs": [
    {
     "name": "stdout",
     "output_type": "stream",
     "text": [
      "0\n",
      "1\n",
      "0\n"
     ]
    }
   ],
   "source": [
    "#Crosschek - Output for Negative text\n",
    "#Result : it works\n",
    "data = {\n",
    "  \"text\": [\"No one should check this. Worst experience. Harmful to childrens\"]\n",
    "}    \n",
    "dfx = pd.DataFrame(data)\n",
    "Xcheck = cv.transform(dfx['text']).toarray()\n",
    "print(bObj.predict(Xcheck)[0])\n",
    "print(mObj.predict(Xcheck)[0])\n",
    "print(gObj.predict(Xcheck)[0])"
   ]
  },
  {
   "cell_type": "code",
   "execution_count": 62,
   "metadata": {
    "execution": {
     "iopub.execute_input": "2021-10-26T11:14:41.158880Z",
     "iopub.status.busy": "2021-10-26T11:14:41.158573Z",
     "iopub.status.idle": "2021-10-26T11:14:41.169974Z",
     "shell.execute_reply": "2021-10-26T11:14:41.169027Z",
     "shell.execute_reply.started": "2021-10-26T11:14:41.158850Z"
    }
   },
   "outputs": [
    {
     "name": "stdout",
     "output_type": "stream",
     "text": [
      "-1\n",
      "-1\n",
      "-1\n"
     ]
    }
   ],
   "source": [
    "#Crosschek - Output for Negative text\n",
    "#Result : it works\n",
    "data = {\n",
    "  \"text\": [\"The analysis is bad\"]\n",
    "}    \n",
    "dfx = pd.DataFrame(data)\n",
    "Xcheck = cv.transform(dfx['text']).toarray()\n",
    "print(bObj.predict(Xcheck)[0])\n",
    "print(mObj.predict(Xcheck)[0])\n",
    "print(gObj.predict(Xcheck)[0])"
   ]
  },
  {
   "cell_type": "code",
   "execution_count": 63,
   "metadata": {
    "execution": {
     "iopub.execute_input": "2021-10-26T11:16:06.430436Z",
     "iopub.status.busy": "2021-10-26T11:16:06.430000Z",
     "iopub.status.idle": "2021-10-26T11:16:06.439624Z",
     "shell.execute_reply": "2021-10-26T11:16:06.438960Z",
     "shell.execute_reply.started": "2021-10-26T11:16:06.430398Z"
    }
   },
   "outputs": [
    {
     "name": "stdout",
     "output_type": "stream",
     "text": [
      "0\n",
      "1\n",
      "0\n"
     ]
    }
   ],
   "source": [
    "#Crosschek - Output for neutral\n",
    "#Result : Multinomial fails\n",
    "data = {\n",
    "  \"text\": [\"we are coming\"]\n",
    "}    \n",
    "dfx = pd.DataFrame(data)\n",
    "Xcheck = cv.transform(dfx['text']).toarray()\n",
    "print(bObj.predict(Xcheck)[0])\n",
    "print(mObj.predict(Xcheck)[0])\n",
    "print(gObj.predict(Xcheck)[0])"
   ]
  },
  {
   "cell_type": "code",
   "execution_count": 64,
   "metadata": {
    "execution": {
     "iopub.execute_input": "2021-10-26T11:23:26.216628Z",
     "iopub.status.busy": "2021-10-26T11:23:26.216290Z",
     "iopub.status.idle": "2021-10-26T11:23:26.226732Z",
     "shell.execute_reply": "2021-10-26T11:23:26.225877Z",
     "shell.execute_reply.started": "2021-10-26T11:23:26.216598Z"
    }
   },
   "outputs": [
    {
     "name": "stdout",
     "output_type": "stream",
     "text": [
      "1\n",
      "1\n",
      "-1\n"
     ]
    }
   ],
   "source": [
    "#Crosschek - Output for neutral\n",
    "#Result : None worked\n",
    "data = {\n",
    "  \"text\": [\"The analysis is not bad nor good\"]\n",
    "}    \n",
    "dfx = pd.DataFrame(data)\n",
    "Xcheck = cv.transform(dfx['text']).toarray()\n",
    "print(bObj.predict(Xcheck)[0])\n",
    "print(mObj.predict(Xcheck)[0])\n",
    "print(gObj.predict(Xcheck)[0])"
   ]
  },
  {
   "cell_type": "code",
   "execution_count": null,
   "metadata": {},
   "outputs": [],
   "source": []
  }
 ],
 "metadata": {
  "kernelspec": {
   "display_name": "Python 3",
   "language": "python",
   "name": "python3"
  },
  "language_info": {
   "codemirror_mode": {
    "name": "ipython",
    "version": 3
   },
   "file_extension": ".py",
   "mimetype": "text/x-python",
   "name": "python",
   "nbconvert_exporter": "python",
   "pygments_lexer": "ipython3",
   "version": "3.8.8"
  }
 },
 "nbformat": 4,
 "nbformat_minor": 4
}
